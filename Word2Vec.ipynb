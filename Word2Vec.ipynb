{
 "cells": [
  {
   "cell_type": "code",
   "execution_count": 19,
   "metadata": {},
   "outputs": [
    {
     "name": "stdout",
     "output_type": "stream",
     "text": [
      "[('hedge', 0.26614925265312195), ('1950', 0.2539213001728058), ('mm', 0.2472245693206787), ('Harvey', 0.23436443507671356), ('II', 0.190618634223938), ('developed', 0.18666747212409973), ('believed', 0.18462342023849487), ('many', 0.180843785405159), ('original', 0.1791846752166748), ('EM-2', 0.17220048606395721)]\n"
     ]
    },
    {
     "name": "stderr",
     "output_type": "stream",
     "text": [
      "[nltk_data] Downloading package punkt to\n",
      "[nltk_data]     C:\\Users\\satya\\AppData\\Roaming\\nltk_data...\n",
      "[nltk_data]   Package punkt is already up-to-date!\n",
      "[nltk_data] Downloading package stopwords to\n",
      "[nltk_data]     C:\\Users\\satya\\AppData\\Roaming\\nltk_data...\n",
      "[nltk_data]   Package stopwords is already up-to-date!\n"
     ]
    }
   ],
   "source": [
    "import nltk\n",
    "from gensim.models import Word2Vec\n",
    "\n",
    "from nltk.corpus import stopwords\n",
    "nltk.download('punkt')\n",
    "nltk.download('stopwords')\n",
    "paragraph=\"\"\"In 1946, the first FAL prototype was completed. It was designed to fire the intermediate 7.92×33mm Kurz cartridge developed and used by the forces of Germany during World War II (with the Sturmgewehr 44 assault rifle). After testing this prototype in 1948, the British Army urged FN to build additional prototypes, including one in bullpup configuration, chambered for their new .280 British [7x43mm] caliber intermediate cartridge.[5] After evaluating the single bullpup prototype, FN decided to return instead to their original, conventional design for future production.[5]\n",
    "\n",
    "In 1950, the United Kingdom presented the redesigned FN rifle and the British EM-2, both in .280 British calibre, to the United States for comparison testing against the favoured United States Army design of the time—Earle Harvey's T25.[6] It was hoped that a common cartridge and rifle could be standardized for issue to the armies of all NATO member countries. After this testing was completed, U.S. Army officials suggested that FN should redesign their rifle to fire the U.S. prototype \".30 Light Rifle\" cartridge. FN decided to hedge their bets with the U.S., and in 1951 even made a deal that the U.S. could produce FALs royalty-free, given that the UK appeared to be favouring their own EM-2.\n",
    "\n",
    "This decision appeared to be correct when the British Army decided to adopt the EM-2 (as Rifle No.9 Mk1) and .280 British cartridge.[5] This decision was later rescinded after the Labour Party lost the 1951 General Election and Winston Churchill returned as Prime Minister. It is believed[by whom?] that there was a quid pro quo agreement between Churchill and U.S. President Harry Truman in 1952 that the British accept the .30 Light Rifle cartridge as NATO standard in return for the U.S. acceptance of the FN FAL as NATO standard.[7] The .30 Light Rifle cartridge was in fact later standardized as the 7.62 mm NATO; however, the U.S. insisted on continued rifle tests. The FAL chambered for the .30 Light Rifle went up against the redesigned T25 (now redesignated as the T47), and an M1 Garand variant, the T44. Eventually, the T44 won, becoming the M14. However, in the meantime, most other NATO countries were evaluating and selecting the FAL.\n",
    "\n",
    "FN created what is possibly the classic post-war battle rifle. Formally introduced by its designer Dieudonné Saive in 1951, and produced two years later, it has been described as the \"Right Arm of the Free World.\"[8] The FAL battle rifle has its Warsaw Pact counterpart in the AKM, each being fielded by dozens of countries and produced in many of them. A few, such as Israel and South Africa, manufactured and issued both designs at various times. Unlike the Soviet AKM assault rifle, the FAL utilized a heavier full-power rifle cartridge.\"\"\"\n",
    "\n",
    "sentences=nltk.sent_tokenize(paragraph)\n",
    "\n",
    "sentences=[nltk.word_tokenize(i) for i in sentences ]\n",
    "\n",
    "for i in range(len(sentences)):\n",
    "    sentences[i]=[word for word in sentences[i] if word not in stopwords.words('english')]\n",
    "model=Word2Vec(sentences,min_count=1)\n",
    "\n",
    "vector=model.wv['United']\n",
    "similar=model.wv.most_similar('United')\n",
    "print(similar)\n",
    "\n",
    "\n"
   ]
  },
  {
   "cell_type": "code",
   "execution_count": 17,
   "metadata": {},
   "outputs": [
    {
     "name": "stdout",
     "output_type": "stream",
     "text": [
      "['__class__', '__contains__', '__delattr__', '__dict__', '__dir__', '__doc__', '__eq__', '__format__', '__ge__', '__getattribute__', '__getitem__', '__gt__', '__hash__', '__init__', '__init_subclass__', '__le__', '__lt__', '__module__', '__ne__', '__new__', '__reduce__', '__reduce_ex__', '__repr__', '__setattr__', '__setitem__', '__sizeof__', '__str__', '__subclasshook__', '__weakref__', '_adapt_by_suffix', '_load_specials', '_log_evaluate_word_analogies', '_save_specials', '_smart_save', 'accuracy', 'add', 'closer_than', 'cosine_similarities', 'distance', 'distances', 'doesnt_match', 'evaluate_word_analogies', 'evaluate_word_pairs', 'get_keras_embedding', 'get_vector', 'index2entity', 'index2word', 'init_sims', 'load', 'load_word2vec_format', 'log_accuracy', 'log_evaluate_word_pairs', 'most_similar', 'most_similar_cosmul', 'most_similar_to_given', 'n_similarity', 'rank', 'relative_cosine_similarity', 'save', 'save_word2vec_format', 'similar_by_vector', 'similar_by_word', 'similarity', 'similarity_matrix', 'syn0', 'syn0norm', 'vector_size', 'vectors', 'vectors_norm', 'vocab', 'wmdistance', 'word_vec', 'words_closer_than', 'wv']\n"
     ]
    }
   ],
   "source": [
    "print(dir(model.wv))"
   ]
  },
  {
   "cell_type": "code",
   "execution_count": 8,
   "metadata": {},
   "outputs": [],
   "source": []
  },
  {
   "cell_type": "code",
   "execution_count": 9,
   "metadata": {},
   "outputs": [
    {
     "data": {
      "text/plain": [
       "[5]"
      ]
     },
     "execution_count": 9,
     "metadata": {},
     "output_type": "execute_result"
    }
   ],
   "source": []
  },
  {
   "cell_type": "code",
   "execution_count": 10,
   "metadata": {},
   "outputs": [],
   "source": []
  },
  {
   "cell_type": "code",
   "execution_count": 11,
   "metadata": {},
   "outputs": [
    {
     "data": {
      "text/plain": [
       "1"
      ]
     },
     "execution_count": 11,
     "metadata": {},
     "output_type": "execute_result"
    }
   ],
   "source": []
  },
  {
   "cell_type": "code",
   "execution_count": null,
   "metadata": {},
   "outputs": [],
   "source": []
  }
 ],
 "metadata": {
  "kernelspec": {
   "display_name": "Python 3",
   "language": "python",
   "name": "python3"
  },
  "language_info": {
   "codemirror_mode": {
    "name": "ipython",
    "version": 3
   },
   "file_extension": ".py",
   "mimetype": "text/x-python",
   "name": "python",
   "nbconvert_exporter": "python",
   "pygments_lexer": "ipython3",
   "version": "3.8.3"
  }
 },
 "nbformat": 4,
 "nbformat_minor": 4
}
