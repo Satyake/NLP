{
  "nbformat": 4,
  "nbformat_minor": 0,
  "metadata": {
    "colab": {
      "name": "Phrase Matching and Vocabulary",
      "provenance": [],
      "collapsed_sections": [],
      "authorship_tag": "ABX9TyOshywxHTp3gk/+HPu5aE5b",
      "include_colab_link": true
    },
    "kernelspec": {
      "name": "python3",
      "display_name": "Python 3"
    }
  },
  "cells": [
    {
      "cell_type": "markdown",
      "metadata": {
        "id": "view-in-github",
        "colab_type": "text"
      },
      "source": [
        "<a href=\"https://colab.research.google.com/github/Satyake/NLP/blob/master/PhraseMatcher%20and%20Matcher%20-Spacy.ipynb\" target=\"_parent\"><img src=\"https://colab.research.google.com/assets/colab-badge.svg\" alt=\"Open In Colab\"/></a>"
      ]
    },
    {
      "cell_type": "code",
      "metadata": {
        "id": "Dxjs0imNl1dF"
      },
      "source": [
        "import spacy\r\n",
        "  "
      ],
      "execution_count": null,
      "outputs": []
    },
    {
      "cell_type": "code",
      "metadata": {
        "id": "CxC0j2Lsl3my"
      },
      "source": [
        "nlp=spacy.load('en_core_web_sm')"
      ],
      "execution_count": null,
      "outputs": []
    },
    {
      "cell_type": "code",
      "metadata": {
        "id": "cZ0HcNr4l7SH"
      },
      "source": [
        "from spacy.matcher import Matcher\r\n",
        "from spacy.matcher import PhraseMatcher\r\n",
        "matcher=Matcher(nlp.vocab)\r\n",
        "pmatcher=PhraseMatcher(nlp.vocab)"
      ],
      "execution_count": 49,
      "outputs": []
    },
    {
      "cell_type": "code",
      "metadata": {
        "id": "Ho5eXbvsl-JZ"
      },
      "source": [
        "pattern1=[{'LOWER':'solarpower'}] #Detect solar power or solarpower or solar-power \r\n",
        "pattern2=[{'LOWER':'solar'},{'IS_PUNCT':True},{'LOWER':'power'}]\r\n",
        "pattern3=[{'LOWER':'solar'},{'LOWER':'power'}]"
      ],
      "execution_count": null,
      "outputs": []
    },
    {
      "cell_type": "code",
      "metadata": {
        "id": "717vAjX0mfr8"
      },
      "source": [
        "matcher.add('SolarPower',None,pattern1,pattern2,pattern3) #matcher .add ( 'name of the object can be any',None,pattern1,pattern2,patternN)\r\n"
      ],
      "execution_count": null,
      "outputs": []
    },
    {
      "cell_type": "code",
      "metadata": {
        "id": "VEfy_dEenGUW"
      },
      "source": [
        "doc=nlp(u\"The solarpower industry continues to grow as solar power increases\")"
      ],
      "execution_count": null,
      "outputs": []
    },
    {
      "cell_type": "code",
      "metadata": {
        "id": "wJ4n9z5lnOYj"
      },
      "source": [
        "found_matches=matcher(doc)"
      ],
      "execution_count": null,
      "outputs": []
    },
    {
      "cell_type": "code",
      "metadata": {
        "colab": {
          "base_uri": "https://localhost:8080/"
        },
        "id": "PMimqK_8nQtx",
        "outputId": "11196727-d9f5-4d68-e629-aff13e95b556"
      },
      "source": [
        "print(found_matches)"
      ],
      "execution_count": null,
      "outputs": [
        {
          "output_type": "stream",
          "text": [
            "[(8656102463236116519, 1, 2), (8656102463236116519, 7, 9)]\n"
          ],
          "name": "stdout"
        }
      ]
    },
    {
      "cell_type": "code",
      "metadata": {
        "id": "Pruwz3Zuncn5"
      },
      "source": [
        "matcher.remove('SolarPower')"
      ],
      "execution_count": null,
      "outputs": []
    },
    {
      "cell_type": "code",
      "metadata": {
        "id": "sSVRO0PNnwIv"
      },
      "source": [
        "pattern1=[{'LOWER':'solarpower'}]\r\n",
        "pattern2=[{'LOWER':'solar'},{'IS_PUNCT':True,'OP':'*'},{'LOWER':'power'}]#Op number of times it will match"
      ],
      "execution_count": null,
      "outputs": []
    },
    {
      "cell_type": "code",
      "metadata": {
        "id": "TKd4dT3PoIRo"
      },
      "source": [
        "matcher.add('SolarPwr',None,pattern1,pattern2)"
      ],
      "execution_count": null,
      "outputs": []
    },
    {
      "cell_type": "code",
      "metadata": {
        "id": "OQVxiVz4oQHI"
      },
      "source": [
        "doc2=nlp(u\"Solar--power! is solarpower yay!\")"
      ],
      "execution_count": null,
      "outputs": []
    },
    {
      "cell_type": "code",
      "metadata": {
        "colab": {
          "base_uri": "https://localhost:8080/"
        },
        "id": "podP-bfLooOH",
        "outputId": "8dfdfe27-4af1-4604-836c-c0912ec0ff9a"
      },
      "source": [
        ""
      ],
      "execution_count": null,
      "outputs": [
        {
          "output_type": "execute_result",
          "data": {
            "text/plain": [
              "solarpower"
            ]
          },
          "metadata": {
            "tags": []
          },
          "execution_count": 20
        }
      ]
    },
    {
      "cell_type": "code",
      "metadata": {
        "colab": {
          "base_uri": "https://localhost:8080/"
        },
        "id": "pjj4t7FCoY9Y",
        "outputId": "6bd33796-f40f-4546-ba45-4e5997cef82d"
      },
      "source": [
        "found_matches=matcher(doc2)\r\n",
        "print(found_matches)"
      ],
      "execution_count": null,
      "outputs": [
        {
          "output_type": "stream",
          "text": [
            "[(10716703203673090554, 0, 3), (10716703203673090554, 5, 6)]\n"
          ],
          "name": "stdout"
        }
      ]
    },
    {
      "cell_type": "code",
      "metadata": {
        "id": "rVF9Z3qNo1HE"
      },
      "source": [
        "with open('/content/reaganomics.txt',encoding='unicode_escape') as f:\r\n",
        "  doc3=nlp(f.read())"
      ],
      "execution_count": 38,
      "outputs": []
    },
    {
      "cell_type": "code",
      "metadata": {
        "id": "FAmE7pcLBfVy"
      },
      "source": [
        "phrase_list = ['voodoo-economics', 'supply-side economics', 'trickle-down economics', 'free-market economics']\r\n"
      ],
      "execution_count": 40,
      "outputs": []
    },
    {
      "cell_type": "code",
      "metadata": {
        "id": "kn15FuLzBA4D"
      },
      "source": [
        "phrases=['voodoo-economics','supply-side economics']\r\n",
        "phrase_patt=[nlp(phrase) for phrase in phrases]"
      ],
      "execution_count": 50,
      "outputs": []
    },
    {
      "cell_type": "code",
      "metadata": {
        "colab": {
          "base_uri": "https://localhost:8080/"
        },
        "id": "tnRM98FhCr5p",
        "outputId": "e799bee2-549d-4a92-bdf3-240514efc465"
      },
      "source": [
        ""
      ],
      "execution_count": 44,
      "outputs": [
        {
          "output_type": "execute_result",
          "data": {
            "text/plain": [
              "[voodoo-economics, supply-side economics]"
            ]
          },
          "metadata": {
            "tags": []
          },
          "execution_count": 44
        }
      ]
    },
    {
      "cell_type": "code",
      "metadata": {
        "id": "Y5HcpyyqAZSi"
      },
      "source": [
        ""
      ],
      "execution_count": null,
      "outputs": []
    },
    {
      "cell_type": "code",
      "metadata": {
        "id": "GNXjtXc5BRLd"
      },
      "source": [
        "pmatcher.add('voodoo-economics',None,*phrase_patt)"
      ],
      "execution_count": 53,
      "outputs": []
    },
    {
      "cell_type": "code",
      "metadata": {
        "id": "8h4c9agMDc8d"
      },
      "source": [
        "matches=pmatcher(doc3)"
      ],
      "execution_count": 54,
      "outputs": []
    },
    {
      "cell_type": "code",
      "metadata": {
        "colab": {
          "base_uri": "https://localhost:8080/"
        },
        "id": "7_rIelrdDg3p",
        "outputId": "4dbbb035-5cbd-41fc-c4c0-446a5d4697ba"
      },
      "source": [
        "print(matches)\r\n",
        "print(doc3[41])"
      ],
      "execution_count": 56,
      "outputs": [
        {
          "output_type": "stream",
          "text": [
            "[(11375980576401089191, 41, 45), (11375980576401089191, 673, 677)]\n",
            "supply\n"
          ],
          "name": "stdout"
        }
      ]
    }
  ]
}