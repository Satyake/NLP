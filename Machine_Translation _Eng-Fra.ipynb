{
  "nbformat": 4,
  "nbformat_minor": 0,
  "metadata": {
    "colab": {
      "name": "Machine Translation",
      "provenance": [],
      "collapsed_sections": [],
      "machine_shape": "hm",
      "authorship_tag": "ABX9TyMPFciEw3MSGf6wGnjQXuJK",
      "include_colab_link": true
    },
    "kernelspec": {
      "name": "python3",
      "display_name": "Python 3"
    },
    "language_info": {
      "name": "python"
    },
    "accelerator": "GPU"
  },
  "cells": [
    {
      "cell_type": "markdown",
      "metadata": {
        "id": "view-in-github",
        "colab_type": "text"
      },
      "source": [
        "<a href=\"https://colab.research.google.com/github/Satyake/NLP/blob/master/Machine_Translation%20_Eng-Fra.ipynb\" target=\"_parent\"><img src=\"https://colab.research.google.com/assets/colab-badge.svg\" alt=\"Open In Colab\"/></a>"
      ]
    },
    {
      "cell_type": "code",
      "execution_count": 1,
      "metadata": {
        "id": "xjqSI4ElUMMp",
        "colab": {
          "base_uri": "https://localhost:8080/"
        },
        "outputId": "b4690a23-4c8b-4212-cafe-8f5631748bab"
      },
      "outputs": [
        {
          "output_type": "stream",
          "name": "stdout",
          "text": [
            "Requirement already satisfied: nltk in /usr/local/lib/python3.7/dist-packages (3.2.5)\n",
            "Requirement already satisfied: six in /usr/local/lib/python3.7/dist-packages (from nltk) (1.15.0)\n",
            "Requirement already satisfied: gensim in /usr/local/lib/python3.7/dist-packages (3.6.0)\n",
            "Requirement already satisfied: smart-open>=1.2.1 in /usr/local/lib/python3.7/dist-packages (from gensim) (5.2.1)\n",
            "Requirement already satisfied: six>=1.5.0 in /usr/local/lib/python3.7/dist-packages (from gensim) (1.15.0)\n",
            "Requirement already satisfied: numpy>=1.11.3 in /usr/local/lib/python3.7/dist-packages (from gensim) (1.21.5)\n",
            "Requirement already satisfied: scipy>=0.18.1 in /usr/local/lib/python3.7/dist-packages (from gensim) (1.4.1)\n",
            "Requirement already satisfied: spacy in /usr/local/lib/python3.7/dist-packages (2.2.4)\n",
            "Requirement already satisfied: requests<3.0.0,>=2.13.0 in /usr/local/lib/python3.7/dist-packages (from spacy) (2.23.0)\n",
            "Requirement already satisfied: srsly<1.1.0,>=1.0.2 in /usr/local/lib/python3.7/dist-packages (from spacy) (1.0.5)\n",
            "Requirement already satisfied: murmurhash<1.1.0,>=0.28.0 in /usr/local/lib/python3.7/dist-packages (from spacy) (1.0.6)\n",
            "Requirement already satisfied: preshed<3.1.0,>=3.0.2 in /usr/local/lib/python3.7/dist-packages (from spacy) (3.0.6)\n",
            "Requirement already satisfied: catalogue<1.1.0,>=0.0.7 in /usr/local/lib/python3.7/dist-packages (from spacy) (1.0.0)\n",
            "Requirement already satisfied: numpy>=1.15.0 in /usr/local/lib/python3.7/dist-packages (from spacy) (1.21.5)\n",
            "Requirement already satisfied: plac<1.2.0,>=0.9.6 in /usr/local/lib/python3.7/dist-packages (from spacy) (1.1.3)\n",
            "Requirement already satisfied: blis<0.5.0,>=0.4.0 in /usr/local/lib/python3.7/dist-packages (from spacy) (0.4.1)\n",
            "Requirement already satisfied: cymem<2.1.0,>=2.0.2 in /usr/local/lib/python3.7/dist-packages (from spacy) (2.0.6)\n",
            "Requirement already satisfied: wasabi<1.1.0,>=0.4.0 in /usr/local/lib/python3.7/dist-packages (from spacy) (0.9.1)\n",
            "Requirement already satisfied: tqdm<5.0.0,>=4.38.0 in /usr/local/lib/python3.7/dist-packages (from spacy) (4.64.0)\n",
            "Requirement already satisfied: thinc==7.4.0 in /usr/local/lib/python3.7/dist-packages (from spacy) (7.4.0)\n",
            "Requirement already satisfied: setuptools in /usr/local/lib/python3.7/dist-packages (from spacy) (57.4.0)\n",
            "Requirement already satisfied: importlib-metadata>=0.20 in /usr/local/lib/python3.7/dist-packages (from catalogue<1.1.0,>=0.0.7->spacy) (4.11.3)\n",
            "Requirement already satisfied: typing-extensions>=3.6.4 in /usr/local/lib/python3.7/dist-packages (from importlib-metadata>=0.20->catalogue<1.1.0,>=0.0.7->spacy) (4.1.1)\n",
            "Requirement already satisfied: zipp>=0.5 in /usr/local/lib/python3.7/dist-packages (from importlib-metadata>=0.20->catalogue<1.1.0,>=0.0.7->spacy) (3.8.0)\n",
            "Requirement already satisfied: urllib3!=1.25.0,!=1.25.1,<1.26,>=1.21.1 in /usr/local/lib/python3.7/dist-packages (from requests<3.0.0,>=2.13.0->spacy) (1.24.3)\n",
            "Requirement already satisfied: certifi>=2017.4.17 in /usr/local/lib/python3.7/dist-packages (from requests<3.0.0,>=2.13.0->spacy) (2021.10.8)\n",
            "Requirement already satisfied: chardet<4,>=3.0.2 in /usr/local/lib/python3.7/dist-packages (from requests<3.0.0,>=2.13.0->spacy) (3.0.4)\n",
            "Requirement already satisfied: idna<3,>=2.5 in /usr/local/lib/python3.7/dist-packages (from requests<3.0.0,>=2.13.0->spacy) (2.10)\n",
            "Requirement already satisfied: plotly in /usr/local/lib/python3.7/dist-packages (5.5.0)\n",
            "Requirement already satisfied: six in /usr/local/lib/python3.7/dist-packages (from plotly) (1.15.0)\n",
            "Requirement already satisfied: tenacity>=6.2.0 in /usr/local/lib/python3.7/dist-packages (from plotly) (8.0.1)\n",
            "[nltk_data] Downloading package punkt to /root/nltk_data...\n",
            "[nltk_data]   Package punkt is already up-to-date!\n"
          ]
        },
        {
          "output_type": "execute_result",
          "data": {
            "text/plain": [
              "True"
            ]
          },
          "metadata": {},
          "execution_count": 1
        }
      ],
      "source": [
        "!pip install nltk\n",
        "!pip install gensim\n",
        "!pip install spacy\n",
        "!pip install plotly\n",
        "import nltk\n",
        "nltk.download('punkt')"
      ]
    },
    {
      "cell_type": "code",
      "source": [
        "import pandas as pd\n",
        "import numpy as np \n",
        "import re\n",
        "import tensorflow as tf"
      ],
      "metadata": {
        "id": "LJ3cReaQU9AE"
      },
      "execution_count": 2,
      "outputs": []
    },
    {
      "cell_type": "code",
      "source": [
        ""
      ],
      "metadata": {
        "id": "ihOdIy7vU9FA"
      },
      "execution_count": 2,
      "outputs": []
    },
    {
      "cell_type": "code",
      "source": [
        "\n",
        "df_english=pd.read_csv('/content/small_vocab_en.csv',sep='\\t',names=['english'])\n",
        "df_french=pd.read_csv('/content/small_vocab_fr.csv',sep='\\t',names=['french'])\n"
      ],
      "metadata": {
        "id": "_RTs7QfqUnks"
      },
      "execution_count": 3,
      "outputs": []
    },
    {
      "cell_type": "code",
      "source": [
        "df_english.head()\n"
      ],
      "metadata": {
        "colab": {
          "base_uri": "https://localhost:8080/",
          "height": 206
        },
        "id": "FagX-ranVMqH",
        "outputId": "3a5387ad-3cfc-47a2-ad94-5fd4b7d7ccc5"
      },
      "execution_count": 4,
      "outputs": [
        {
          "output_type": "execute_result",
          "data": {
            "text/plain": [
              "                                             english\n",
              "0  new jersey is sometimes quiet during autumn , ...\n",
              "1  the united states is usually chilly during jul...\n",
              "2  california is usually quiet during march , and...\n",
              "3  the united states is sometimes mild during jun...\n",
              "4  your least liked fruit is the grape , but my l..."
            ],
            "text/html": [
              "\n",
              "  <div id=\"df-03731893-907b-4a54-b518-433bde607d6a\">\n",
              "    <div class=\"colab-df-container\">\n",
              "      <div>\n",
              "<style scoped>\n",
              "    .dataframe tbody tr th:only-of-type {\n",
              "        vertical-align: middle;\n",
              "    }\n",
              "\n",
              "    .dataframe tbody tr th {\n",
              "        vertical-align: top;\n",
              "    }\n",
              "\n",
              "    .dataframe thead th {\n",
              "        text-align: right;\n",
              "    }\n",
              "</style>\n",
              "<table border=\"1\" class=\"dataframe\">\n",
              "  <thead>\n",
              "    <tr style=\"text-align: right;\">\n",
              "      <th></th>\n",
              "      <th>english</th>\n",
              "    </tr>\n",
              "  </thead>\n",
              "  <tbody>\n",
              "    <tr>\n",
              "      <th>0</th>\n",
              "      <td>new jersey is sometimes quiet during autumn , ...</td>\n",
              "    </tr>\n",
              "    <tr>\n",
              "      <th>1</th>\n",
              "      <td>the united states is usually chilly during jul...</td>\n",
              "    </tr>\n",
              "    <tr>\n",
              "      <th>2</th>\n",
              "      <td>california is usually quiet during march , and...</td>\n",
              "    </tr>\n",
              "    <tr>\n",
              "      <th>3</th>\n",
              "      <td>the united states is sometimes mild during jun...</td>\n",
              "    </tr>\n",
              "    <tr>\n",
              "      <th>4</th>\n",
              "      <td>your least liked fruit is the grape , but my l...</td>\n",
              "    </tr>\n",
              "  </tbody>\n",
              "</table>\n",
              "</div>\n",
              "      <button class=\"colab-df-convert\" onclick=\"convertToInteractive('df-03731893-907b-4a54-b518-433bde607d6a')\"\n",
              "              title=\"Convert this dataframe to an interactive table.\"\n",
              "              style=\"display:none;\">\n",
              "        \n",
              "  <svg xmlns=\"http://www.w3.org/2000/svg\" height=\"24px\"viewBox=\"0 0 24 24\"\n",
              "       width=\"24px\">\n",
              "    <path d=\"M0 0h24v24H0V0z\" fill=\"none\"/>\n",
              "    <path d=\"M18.56 5.44l.94 2.06.94-2.06 2.06-.94-2.06-.94-.94-2.06-.94 2.06-2.06.94zm-11 1L8.5 8.5l.94-2.06 2.06-.94-2.06-.94L8.5 2.5l-.94 2.06-2.06.94zm10 10l.94 2.06.94-2.06 2.06-.94-2.06-.94-.94-2.06-.94 2.06-2.06.94z\"/><path d=\"M17.41 7.96l-1.37-1.37c-.4-.4-.92-.59-1.43-.59-.52 0-1.04.2-1.43.59L10.3 9.45l-7.72 7.72c-.78.78-.78 2.05 0 2.83L4 21.41c.39.39.9.59 1.41.59.51 0 1.02-.2 1.41-.59l7.78-7.78 2.81-2.81c.8-.78.8-2.07 0-2.86zM5.41 20L4 18.59l7.72-7.72 1.47 1.35L5.41 20z\"/>\n",
              "  </svg>\n",
              "      </button>\n",
              "      \n",
              "  <style>\n",
              "    .colab-df-container {\n",
              "      display:flex;\n",
              "      flex-wrap:wrap;\n",
              "      gap: 12px;\n",
              "    }\n",
              "\n",
              "    .colab-df-convert {\n",
              "      background-color: #E8F0FE;\n",
              "      border: none;\n",
              "      border-radius: 50%;\n",
              "      cursor: pointer;\n",
              "      display: none;\n",
              "      fill: #1967D2;\n",
              "      height: 32px;\n",
              "      padding: 0 0 0 0;\n",
              "      width: 32px;\n",
              "    }\n",
              "\n",
              "    .colab-df-convert:hover {\n",
              "      background-color: #E2EBFA;\n",
              "      box-shadow: 0px 1px 2px rgba(60, 64, 67, 0.3), 0px 1px 3px 1px rgba(60, 64, 67, 0.15);\n",
              "      fill: #174EA6;\n",
              "    }\n",
              "\n",
              "    [theme=dark] .colab-df-convert {\n",
              "      background-color: #3B4455;\n",
              "      fill: #D2E3FC;\n",
              "    }\n",
              "\n",
              "    [theme=dark] .colab-df-convert:hover {\n",
              "      background-color: #434B5C;\n",
              "      box-shadow: 0px 1px 3px 1px rgba(0, 0, 0, 0.15);\n",
              "      filter: drop-shadow(0px 1px 2px rgba(0, 0, 0, 0.3));\n",
              "      fill: #FFFFFF;\n",
              "    }\n",
              "  </style>\n",
              "\n",
              "      <script>\n",
              "        const buttonEl =\n",
              "          document.querySelector('#df-03731893-907b-4a54-b518-433bde607d6a button.colab-df-convert');\n",
              "        buttonEl.style.display =\n",
              "          google.colab.kernel.accessAllowed ? 'block' : 'none';\n",
              "\n",
              "        async function convertToInteractive(key) {\n",
              "          const element = document.querySelector('#df-03731893-907b-4a54-b518-433bde607d6a');\n",
              "          const dataTable =\n",
              "            await google.colab.kernel.invokeFunction('convertToInteractive',\n",
              "                                                     [key], {});\n",
              "          if (!dataTable) return;\n",
              "\n",
              "          const docLinkHtml = 'Like what you see? Visit the ' +\n",
              "            '<a target=\"_blank\" href=https://colab.research.google.com/notebooks/data_table.ipynb>data table notebook</a>'\n",
              "            + ' to learn more about interactive tables.';\n",
              "          element.innerHTML = '';\n",
              "          dataTable['output_type'] = 'display_data';\n",
              "          await google.colab.output.renderOutput(dataTable, element);\n",
              "          const docLink = document.createElement('div');\n",
              "          docLink.innerHTML = docLinkHtml;\n",
              "          element.appendChild(docLink);\n",
              "        }\n",
              "      </script>\n",
              "    </div>\n",
              "  </div>\n",
              "  "
            ]
          },
          "metadata": {},
          "execution_count": 4
        }
      ]
    },
    {
      "cell_type": "code",
      "source": [
        "df_french.head()"
      ],
      "metadata": {
        "colab": {
          "base_uri": "https://localhost:8080/",
          "height": 206
        },
        "id": "G5FXFcABVpcB",
        "outputId": "d111d4c1-a501-46dd-9528-d5c983898a9f"
      },
      "execution_count": 5,
      "outputs": [
        {
          "output_type": "execute_result",
          "data": {
            "text/plain": [
              "                                              french\n",
              "0  new jersey est parfois calme pendant l' automn...\n",
              "1  les états-unis est généralement froid en juill...\n",
              "2  california est généralement calme en mars , et...\n",
              "3  les états-unis est parfois légère en juin , et...\n",
              "4  votre moins aimé fruit est le raisin , mais mo..."
            ],
            "text/html": [
              "\n",
              "  <div id=\"df-94a3b6f2-28db-4f4e-9c39-c73c977f3bc2\">\n",
              "    <div class=\"colab-df-container\">\n",
              "      <div>\n",
              "<style scoped>\n",
              "    .dataframe tbody tr th:only-of-type {\n",
              "        vertical-align: middle;\n",
              "    }\n",
              "\n",
              "    .dataframe tbody tr th {\n",
              "        vertical-align: top;\n",
              "    }\n",
              "\n",
              "    .dataframe thead th {\n",
              "        text-align: right;\n",
              "    }\n",
              "</style>\n",
              "<table border=\"1\" class=\"dataframe\">\n",
              "  <thead>\n",
              "    <tr style=\"text-align: right;\">\n",
              "      <th></th>\n",
              "      <th>french</th>\n",
              "    </tr>\n",
              "  </thead>\n",
              "  <tbody>\n",
              "    <tr>\n",
              "      <th>0</th>\n",
              "      <td>new jersey est parfois calme pendant l' automn...</td>\n",
              "    </tr>\n",
              "    <tr>\n",
              "      <th>1</th>\n",
              "      <td>les états-unis est généralement froid en juill...</td>\n",
              "    </tr>\n",
              "    <tr>\n",
              "      <th>2</th>\n",
              "      <td>california est généralement calme en mars , et...</td>\n",
              "    </tr>\n",
              "    <tr>\n",
              "      <th>3</th>\n",
              "      <td>les états-unis est parfois légère en juin , et...</td>\n",
              "    </tr>\n",
              "    <tr>\n",
              "      <th>4</th>\n",
              "      <td>votre moins aimé fruit est le raisin , mais mo...</td>\n",
              "    </tr>\n",
              "  </tbody>\n",
              "</table>\n",
              "</div>\n",
              "      <button class=\"colab-df-convert\" onclick=\"convertToInteractive('df-94a3b6f2-28db-4f4e-9c39-c73c977f3bc2')\"\n",
              "              title=\"Convert this dataframe to an interactive table.\"\n",
              "              style=\"display:none;\">\n",
              "        \n",
              "  <svg xmlns=\"http://www.w3.org/2000/svg\" height=\"24px\"viewBox=\"0 0 24 24\"\n",
              "       width=\"24px\">\n",
              "    <path d=\"M0 0h24v24H0V0z\" fill=\"none\"/>\n",
              "    <path d=\"M18.56 5.44l.94 2.06.94-2.06 2.06-.94-2.06-.94-.94-2.06-.94 2.06-2.06.94zm-11 1L8.5 8.5l.94-2.06 2.06-.94-2.06-.94L8.5 2.5l-.94 2.06-2.06.94zm10 10l.94 2.06.94-2.06 2.06-.94-2.06-.94-.94-2.06-.94 2.06-2.06.94z\"/><path d=\"M17.41 7.96l-1.37-1.37c-.4-.4-.92-.59-1.43-.59-.52 0-1.04.2-1.43.59L10.3 9.45l-7.72 7.72c-.78.78-.78 2.05 0 2.83L4 21.41c.39.39.9.59 1.41.59.51 0 1.02-.2 1.41-.59l7.78-7.78 2.81-2.81c.8-.78.8-2.07 0-2.86zM5.41 20L4 18.59l7.72-7.72 1.47 1.35L5.41 20z\"/>\n",
              "  </svg>\n",
              "      </button>\n",
              "      \n",
              "  <style>\n",
              "    .colab-df-container {\n",
              "      display:flex;\n",
              "      flex-wrap:wrap;\n",
              "      gap: 12px;\n",
              "    }\n",
              "\n",
              "    .colab-df-convert {\n",
              "      background-color: #E8F0FE;\n",
              "      border: none;\n",
              "      border-radius: 50%;\n",
              "      cursor: pointer;\n",
              "      display: none;\n",
              "      fill: #1967D2;\n",
              "      height: 32px;\n",
              "      padding: 0 0 0 0;\n",
              "      width: 32px;\n",
              "    }\n",
              "\n",
              "    .colab-df-convert:hover {\n",
              "      background-color: #E2EBFA;\n",
              "      box-shadow: 0px 1px 2px rgba(60, 64, 67, 0.3), 0px 1px 3px 1px rgba(60, 64, 67, 0.15);\n",
              "      fill: #174EA6;\n",
              "    }\n",
              "\n",
              "    [theme=dark] .colab-df-convert {\n",
              "      background-color: #3B4455;\n",
              "      fill: #D2E3FC;\n",
              "    }\n",
              "\n",
              "    [theme=dark] .colab-df-convert:hover {\n",
              "      background-color: #434B5C;\n",
              "      box-shadow: 0px 1px 3px 1px rgba(0, 0, 0, 0.15);\n",
              "      filter: drop-shadow(0px 1px 2px rgba(0, 0, 0, 0.3));\n",
              "      fill: #FFFFFF;\n",
              "    }\n",
              "  </style>\n",
              "\n",
              "      <script>\n",
              "        const buttonEl =\n",
              "          document.querySelector('#df-94a3b6f2-28db-4f4e-9c39-c73c977f3bc2 button.colab-df-convert');\n",
              "        buttonEl.style.display =\n",
              "          google.colab.kernel.accessAllowed ? 'block' : 'none';\n",
              "\n",
              "        async function convertToInteractive(key) {\n",
              "          const element = document.querySelector('#df-94a3b6f2-28db-4f4e-9c39-c73c977f3bc2');\n",
              "          const dataTable =\n",
              "            await google.colab.kernel.invokeFunction('convertToInteractive',\n",
              "                                                     [key], {});\n",
              "          if (!dataTable) return;\n",
              "\n",
              "          const docLinkHtml = 'Like what you see? Visit the ' +\n",
              "            '<a target=\"_blank\" href=https://colab.research.google.com/notebooks/data_table.ipynb>data table notebook</a>'\n",
              "            + ' to learn more about interactive tables.';\n",
              "          element.innerHTML = '';\n",
              "          dataTable['output_type'] = 'display_data';\n",
              "          await google.colab.output.renderOutput(dataTable, element);\n",
              "          const docLink = document.createElement('div');\n",
              "          docLink.innerHTML = docLinkHtml;\n",
              "          element.appendChild(docLink);\n",
              "        }\n",
              "      </script>\n",
              "    </div>\n",
              "  </div>\n",
              "  "
            ]
          },
          "metadata": {},
          "execution_count": 5
        }
      ]
    },
    {
      "cell_type": "code",
      "source": [
        "df_concat=pd.concat([df_english,df_french],axis=1)"
      ],
      "metadata": {
        "id": "IwzHxNUtWDvK"
      },
      "execution_count": 6,
      "outputs": []
    },
    {
      "cell_type": "code",
      "source": [
        "df_concat"
      ],
      "metadata": {
        "id": "Ho44ppIpWMzm",
        "colab": {
          "base_uri": "https://localhost:8080/",
          "height": 423
        },
        "outputId": "269b07f5-48a1-43a5-e528-441eaebf82c4"
      },
      "execution_count": 7,
      "outputs": [
        {
          "output_type": "execute_result",
          "data": {
            "text/plain": [
              "                                                  english  \\\n",
              "0       new jersey is sometimes quiet during autumn , ...   \n",
              "1       the united states is usually chilly during jul...   \n",
              "2       california is usually quiet during march , and...   \n",
              "3       the united states is sometimes mild during jun...   \n",
              "4       your least liked fruit is the grape , but my l...   \n",
              "...                                                   ...   \n",
              "137855  france is never busy during march , and it is ...   \n",
              "137856  india is sometimes beautiful during spring , a...   \n",
              "137857  india is never wet during summer , but it is s...   \n",
              "137858  france is never chilly during january , but it...   \n",
              "137859  the orange is her favorite fruit , but the ban...   \n",
              "\n",
              "                                                   french  \n",
              "0       new jersey est parfois calme pendant l' automn...  \n",
              "1       les états-unis est généralement froid en juill...  \n",
              "2       california est généralement calme en mars , et...  \n",
              "3       les états-unis est parfois légère en juin , et...  \n",
              "4       votre moins aimé fruit est le raisin , mais mo...  \n",
              "...                                                   ...  \n",
              "137855  la france est jamais occupée en mars , et il e...  \n",
              "137856  l' inde est parfois belle au printemps , et il...  \n",
              "137857  l' inde est jamais mouillé pendant l' été , ma...  \n",
              "137858  la france est jamais froid en janvier , mais i...  \n",
              "137859  l'orange est son fruit préféré , mais la banan...  \n",
              "\n",
              "[137860 rows x 2 columns]"
            ],
            "text/html": [
              "\n",
              "  <div id=\"df-ad91a50b-71a3-44e6-9c25-36e593fa25d0\">\n",
              "    <div class=\"colab-df-container\">\n",
              "      <div>\n",
              "<style scoped>\n",
              "    .dataframe tbody tr th:only-of-type {\n",
              "        vertical-align: middle;\n",
              "    }\n",
              "\n",
              "    .dataframe tbody tr th {\n",
              "        vertical-align: top;\n",
              "    }\n",
              "\n",
              "    .dataframe thead th {\n",
              "        text-align: right;\n",
              "    }\n",
              "</style>\n",
              "<table border=\"1\" class=\"dataframe\">\n",
              "  <thead>\n",
              "    <tr style=\"text-align: right;\">\n",
              "      <th></th>\n",
              "      <th>english</th>\n",
              "      <th>french</th>\n",
              "    </tr>\n",
              "  </thead>\n",
              "  <tbody>\n",
              "    <tr>\n",
              "      <th>0</th>\n",
              "      <td>new jersey is sometimes quiet during autumn , ...</td>\n",
              "      <td>new jersey est parfois calme pendant l' automn...</td>\n",
              "    </tr>\n",
              "    <tr>\n",
              "      <th>1</th>\n",
              "      <td>the united states is usually chilly during jul...</td>\n",
              "      <td>les états-unis est généralement froid en juill...</td>\n",
              "    </tr>\n",
              "    <tr>\n",
              "      <th>2</th>\n",
              "      <td>california is usually quiet during march , and...</td>\n",
              "      <td>california est généralement calme en mars , et...</td>\n",
              "    </tr>\n",
              "    <tr>\n",
              "      <th>3</th>\n",
              "      <td>the united states is sometimes mild during jun...</td>\n",
              "      <td>les états-unis est parfois légère en juin , et...</td>\n",
              "    </tr>\n",
              "    <tr>\n",
              "      <th>4</th>\n",
              "      <td>your least liked fruit is the grape , but my l...</td>\n",
              "      <td>votre moins aimé fruit est le raisin , mais mo...</td>\n",
              "    </tr>\n",
              "    <tr>\n",
              "      <th>...</th>\n",
              "      <td>...</td>\n",
              "      <td>...</td>\n",
              "    </tr>\n",
              "    <tr>\n",
              "      <th>137855</th>\n",
              "      <td>france is never busy during march , and it is ...</td>\n",
              "      <td>la france est jamais occupée en mars , et il e...</td>\n",
              "    </tr>\n",
              "    <tr>\n",
              "      <th>137856</th>\n",
              "      <td>india is sometimes beautiful during spring , a...</td>\n",
              "      <td>l' inde est parfois belle au printemps , et il...</td>\n",
              "    </tr>\n",
              "    <tr>\n",
              "      <th>137857</th>\n",
              "      <td>india is never wet during summer , but it is s...</td>\n",
              "      <td>l' inde est jamais mouillé pendant l' été , ma...</td>\n",
              "    </tr>\n",
              "    <tr>\n",
              "      <th>137858</th>\n",
              "      <td>france is never chilly during january , but it...</td>\n",
              "      <td>la france est jamais froid en janvier , mais i...</td>\n",
              "    </tr>\n",
              "    <tr>\n",
              "      <th>137859</th>\n",
              "      <td>the orange is her favorite fruit , but the ban...</td>\n",
              "      <td>l'orange est son fruit préféré , mais la banan...</td>\n",
              "    </tr>\n",
              "  </tbody>\n",
              "</table>\n",
              "<p>137860 rows × 2 columns</p>\n",
              "</div>\n",
              "      <button class=\"colab-df-convert\" onclick=\"convertToInteractive('df-ad91a50b-71a3-44e6-9c25-36e593fa25d0')\"\n",
              "              title=\"Convert this dataframe to an interactive table.\"\n",
              "              style=\"display:none;\">\n",
              "        \n",
              "  <svg xmlns=\"http://www.w3.org/2000/svg\" height=\"24px\"viewBox=\"0 0 24 24\"\n",
              "       width=\"24px\">\n",
              "    <path d=\"M0 0h24v24H0V0z\" fill=\"none\"/>\n",
              "    <path d=\"M18.56 5.44l.94 2.06.94-2.06 2.06-.94-2.06-.94-.94-2.06-.94 2.06-2.06.94zm-11 1L8.5 8.5l.94-2.06 2.06-.94-2.06-.94L8.5 2.5l-.94 2.06-2.06.94zm10 10l.94 2.06.94-2.06 2.06-.94-2.06-.94-.94-2.06-.94 2.06-2.06.94z\"/><path d=\"M17.41 7.96l-1.37-1.37c-.4-.4-.92-.59-1.43-.59-.52 0-1.04.2-1.43.59L10.3 9.45l-7.72 7.72c-.78.78-.78 2.05 0 2.83L4 21.41c.39.39.9.59 1.41.59.51 0 1.02-.2 1.41-.59l7.78-7.78 2.81-2.81c.8-.78.8-2.07 0-2.86zM5.41 20L4 18.59l7.72-7.72 1.47 1.35L5.41 20z\"/>\n",
              "  </svg>\n",
              "      </button>\n",
              "      \n",
              "  <style>\n",
              "    .colab-df-container {\n",
              "      display:flex;\n",
              "      flex-wrap:wrap;\n",
              "      gap: 12px;\n",
              "    }\n",
              "\n",
              "    .colab-df-convert {\n",
              "      background-color: #E8F0FE;\n",
              "      border: none;\n",
              "      border-radius: 50%;\n",
              "      cursor: pointer;\n",
              "      display: none;\n",
              "      fill: #1967D2;\n",
              "      height: 32px;\n",
              "      padding: 0 0 0 0;\n",
              "      width: 32px;\n",
              "    }\n",
              "\n",
              "    .colab-df-convert:hover {\n",
              "      background-color: #E2EBFA;\n",
              "      box-shadow: 0px 1px 2px rgba(60, 64, 67, 0.3), 0px 1px 3px 1px rgba(60, 64, 67, 0.15);\n",
              "      fill: #174EA6;\n",
              "    }\n",
              "\n",
              "    [theme=dark] .colab-df-convert {\n",
              "      background-color: #3B4455;\n",
              "      fill: #D2E3FC;\n",
              "    }\n",
              "\n",
              "    [theme=dark] .colab-df-convert:hover {\n",
              "      background-color: #434B5C;\n",
              "      box-shadow: 0px 1px 3px 1px rgba(0, 0, 0, 0.15);\n",
              "      filter: drop-shadow(0px 1px 2px rgba(0, 0, 0, 0.3));\n",
              "      fill: #FFFFFF;\n",
              "    }\n",
              "  </style>\n",
              "\n",
              "      <script>\n",
              "        const buttonEl =\n",
              "          document.querySelector('#df-ad91a50b-71a3-44e6-9c25-36e593fa25d0 button.colab-df-convert');\n",
              "        buttonEl.style.display =\n",
              "          google.colab.kernel.accessAllowed ? 'block' : 'none';\n",
              "\n",
              "        async function convertToInteractive(key) {\n",
              "          const element = document.querySelector('#df-ad91a50b-71a3-44e6-9c25-36e593fa25d0');\n",
              "          const dataTable =\n",
              "            await google.colab.kernel.invokeFunction('convertToInteractive',\n",
              "                                                     [key], {});\n",
              "          if (!dataTable) return;\n",
              "\n",
              "          const docLinkHtml = 'Like what you see? Visit the ' +\n",
              "            '<a target=\"_blank\" href=https://colab.research.google.com/notebooks/data_table.ipynb>data table notebook</a>'\n",
              "            + ' to learn more about interactive tables.';\n",
              "          element.innerHTML = '';\n",
              "          dataTable['output_type'] = 'display_data';\n",
              "          await google.colab.output.renderOutput(dataTable, element);\n",
              "          const docLink = document.createElement('div');\n",
              "          docLink.innerHTML = docLinkHtml;\n",
              "          element.appendChild(docLink);\n",
              "        }\n",
              "      </script>\n",
              "    </div>\n",
              "  </div>\n",
              "  "
            ]
          },
          "metadata": {},
          "execution_count": 7
        }
      ]
    },
    {
      "cell_type": "code",
      "source": [
        ""
      ],
      "metadata": {
        "id": "zVuyy_50YBEp"
      },
      "execution_count": 7,
      "outputs": []
    },
    {
      "cell_type": "code",
      "source": [
        "print('Total English Records={}'.format(len(df_concat['english'])))\n",
        "print('Total French Records={}'.format(len(df_concat['french'])))"
      ],
      "metadata": {
        "colab": {
          "base_uri": "https://localhost:8080/"
        },
        "id": "ecmeXj9HWf3Z",
        "outputId": "211c044f-e0f2-4120-dfd7-1ea6cbdff7bf"
      },
      "execution_count": 8,
      "outputs": [
        {
          "output_type": "stream",
          "name": "stdout",
          "text": [
            "Total English Records=137860\n",
            "Total French Records=137860\n"
          ]
        }
      ]
    },
    {
      "cell_type": "code",
      "source": [
        "#to remove punc\n",
        "def remove_punc(x):\n",
        "  return re.sub('[!#?,.;:]','',x)"
      ],
      "metadata": {
        "id": "-BAl7Z0cW8jE"
      },
      "execution_count": 9,
      "outputs": []
    },
    {
      "cell_type": "code",
      "source": [
        "df_concat['french']=df_concat['french'].apply(remove_punc)\n",
        "df_concat['english']=df_concat['english'].apply(remove_punc)"
      ],
      "metadata": {
        "id": "k-4f2FnTXhOG"
      },
      "execution_count": 10,
      "outputs": []
    },
    {
      "cell_type": "code",
      "source": [
        "english_words=[]\n",
        "french_words=[]"
      ],
      "metadata": {
        "id": "dXVf2k4AYBku"
      },
      "execution_count": 11,
      "outputs": []
    },
    {
      "cell_type": "code",
      "source": [
        "def unique_words(df):\n",
        "  unique_words=[]\n",
        "  tknizer=tf.keras.preprocessing.text.Tokenizer()\n",
        "  tknizer.fit_on_texts(df)\n",
        "  dictionary=tknizer.word_index\n",
        "  print(len(tknizer.word_index))\n",
        "  for item1, item2 in dictionary.items():\n",
        "    unique_words.append(item1)\n",
        "  return len(unique_words)\n"
      ],
      "metadata": {
        "id": "OGPsO3qAYQd_"
      },
      "execution_count": 12,
      "outputs": []
    },
    {
      "cell_type": "code",
      "source": [
        "len_eng=unique_words(df_concat['english'])"
      ],
      "metadata": {
        "id": "RfN8yx3VZCZp",
        "colab": {
          "base_uri": "https://localhost:8080/"
        },
        "outputId": "81892c6c-1f0f-4ed2-dd84-a5db19e4a81b"
      },
      "execution_count": 13,
      "outputs": [
        {
          "output_type": "stream",
          "name": "stdout",
          "text": [
            "199\n"
          ]
        }
      ]
    },
    {
      "cell_type": "code",
      "source": [
        "len_fra=unique_words(df_concat['french'])"
      ],
      "metadata": {
        "id": "-g3ENVEPZgjF",
        "colab": {
          "base_uri": "https://localhost:8080/"
        },
        "outputId": "1efa1d27-af2f-48b8-925d-5e7c2d02bd22"
      },
      "execution_count": 14,
      "outputs": [
        {
          "output_type": "stream",
          "name": "stdout",
          "text": [
            "344\n"
          ]
        }
      ]
    },
    {
      "cell_type": "code",
      "source": [
        "maxlen_english = -1\n",
        "tknizer=tf.keras.preprocessing.text.Tokenizer()\n",
        "tknizer.fit_on_texts(df_concat['english'])\n",
        "len(tknizer.word_index)\n"
      ],
      "metadata": {
        "colab": {
          "base_uri": "https://localhost:8080/"
        },
        "id": "tzVQIkKOsEft",
        "outputId": "2d547faf-9c7d-4596-e9a6-f473f17c512c"
      },
      "execution_count": 15,
      "outputs": [
        {
          "output_type": "execute_result",
          "data": {
            "text/plain": [
              "199"
            ]
          },
          "metadata": {},
          "execution_count": 15
        }
      ]
    },
    {
      "cell_type": "code",
      "source": [
        "def max_num_words_in_rows(df):\n",
        "  maxlen_english = -1\n",
        "  counts=[]\n",
        "  for doc in df_concat.english:\n",
        "    tokens = nltk.word_tokenize(doc)\n",
        "    counts.append(len(tokens))\n",
        "  return max(counts)"
      ],
      "metadata": {
        "id": "wGmD01aPzE_o"
      },
      "execution_count": 16,
      "outputs": []
    },
    {
      "cell_type": "code",
      "source": [
        "maxlen_english=max_num_words_in_rows(df_concat['english'])\n",
        "maxlen_french=max_num_words_in_rows(df_concat['french'])"
      ],
      "metadata": {
        "id": "e6g9OWhEzo-j"
      },
      "execution_count": 17,
      "outputs": []
    },
    {
      "cell_type": "code",
      "source": [
        "maxlen_english"
      ],
      "metadata": {
        "colab": {
          "base_uri": "https://localhost:8080/"
        },
        "id": "SkPi4-JX5nun",
        "outputId": "c07ba841-0436-4009-c012-355c3b3e5ad5"
      },
      "execution_count": 18,
      "outputs": [
        {
          "output_type": "execute_result",
          "data": {
            "text/plain": [
              "15"
            ]
          },
          "metadata": {},
          "execution_count": 18
        }
      ]
    },
    {
      "cell_type": "code",
      "source": [
        "#Tokenization and Padings"
      ],
      "metadata": {
        "id": "QdAWXo42AcxI"
      },
      "execution_count": 19,
      "outputs": []
    },
    {
      "cell_type": "code",
      "source": [
        "def tokenize_and_pad(x,max_len):\n",
        "  tokenizer=tf.keras.preprocessing.text.Tokenizer()\n",
        "  tokenizer.fit_on_texts(x)\n",
        "  sequences=tokenizer.texts_to_sequences(x)\n",
        "  padded=tf.keras.preprocessing.sequence.pad_sequences(sequences,maxlen=max_len,padding='post')\n",
        "  return tokenizer, sequences,padded"
      ],
      "metadata": {
        "id": "-zrzOg5KAeYn"
      },
      "execution_count": 20,
      "outputs": []
    },
    {
      "cell_type": "code",
      "source": [
        "x_tokenizer,x_sequences,x_padded=tokenize_and_pad(df_concat['english'],maxlen_english)\n",
        "y_tokenizer,y_sequences,y_padded=tokenize_and_pad(df_concat['french'],maxlen_french)"
      ],
      "metadata": {
        "id": "rABp0oYf9iuO"
      },
      "execution_count": 21,
      "outputs": []
    },
    {
      "cell_type": "code",
      "source": [
        "print(x_sequences[0])\n",
        "print(y_sequences[0])\n",
        "print(x_padded[0])\n",
        "print(y_padded[0])"
      ],
      "metadata": {
        "colab": {
          "base_uri": "https://localhost:8080/"
        },
        "id": "s3vKPqg_-Gye",
        "outputId": "c3823364-a0d1-41b2-9262-cb542b45ec7a"
      },
      "execution_count": 22,
      "outputs": [
        {
          "output_type": "stream",
          "name": "stdout",
          "text": [
            "[17, 23, 1, 8, 67, 4, 39, 7, 3, 1, 55, 2, 44]\n",
            "[35, 34, 1, 8, 67, 37, 11, 24, 6, 3, 1, 112, 2, 50]\n",
            "[17 23  1  8 67  4 39  7  3  1 55  2 44  0  0]\n",
            "[ 35  34   1   8  67  37  11  24   6   3   1 112   2  50   0]\n"
          ]
        }
      ]
    },
    {
      "cell_type": "code",
      "source": [
        "from sklearn.model_selection import train_test_split\n",
        "x_train,x_test,y_train,y_test=train_test_split(x_padded,y_padded,test_size=0.1)"
      ],
      "metadata": {
        "id": "rDqDLXtU-imE"
      },
      "execution_count": 23,
      "outputs": []
    },
    {
      "cell_type": "code",
      "source": [
        "x_train.shape"
      ],
      "metadata": {
        "colab": {
          "base_uri": "https://localhost:8080/"
        },
        "id": "Q5w4aCdH7PnM",
        "outputId": "f8962ff3-86aa-4750-b6a9-cf8ea57a4f18"
      },
      "execution_count": 24,
      "outputs": [
        {
          "output_type": "execute_result",
          "data": {
            "text/plain": [
              "(124074, 15)"
            ]
          },
          "metadata": {},
          "execution_count": 24
        }
      ]
    },
    {
      "cell_type": "code",
      "source": [
        ""
      ],
      "metadata": {
        "id": "ebhZafw_1S0K"
      },
      "execution_count": 24,
      "outputs": []
    },
    {
      "cell_type": "code",
      "source": [
        "#Building the Network\n",
        "eng_vocab_size=len_eng+1\n",
        "fra_vocab_size=len_fra+1\n",
        "model=tf.keras.models.Sequential()\n",
        "model.add(tf.keras.layers.Embedding(eng_vocab_size,256,input_length=maxlen_english,mask_zero=True))\n",
        "model.add(tf.keras.layers.Bidirectional(tf.keras.layers.LSTM(300),merge_mode='mul'))\n",
        "model.add(tf.keras.layers.RepeatVector(maxlen_french))\n",
        "model.add(tf.keras.layers.LSTM(25,return_sequences=True))\n",
        "model.add(tf.keras.layers.TimeDistributed(tf.keras.layers.Dense(fra_vocab_size,activation='softmax')))\n",
        "model.compile(optimizer='adam',loss='sparse_categorical_crossentropy',metrics=['accuracy'])\n",
        "model.summary()"
      ],
      "metadata": {
        "id": "V5CmxVcF_D_N",
        "colab": {
          "base_uri": "https://localhost:8080/"
        },
        "outputId": "f2f184b7-494e-42e1-92ce-dcccea97a61c"
      },
      "execution_count": 32,
      "outputs": [
        {
          "output_type": "stream",
          "name": "stdout",
          "text": [
            "Model: \"sequential_1\"\n",
            "_________________________________________________________________\n",
            " Layer (type)                Output Shape              Param #   \n",
            "=================================================================\n",
            " embedding_1 (Embedding)     (None, 15, 256)           51200     \n",
            "                                                                 \n",
            " bidirectional (Bidirectiona  (None, 300)              1336800   \n",
            " l)                                                              \n",
            "                                                                 \n",
            " repeat_vector_1 (RepeatVect  (None, 15, 300)          0         \n",
            " or)                                                             \n",
            "                                                                 \n",
            " lstm_3 (LSTM)               (None, 15, 25)            32600     \n",
            "                                                                 \n",
            " time_distributed_1 (TimeDis  (None, 15, 345)          8970      \n",
            " tributed)                                                       \n",
            "                                                                 \n",
            "=================================================================\n",
            "Total params: 1,429,570\n",
            "Trainable params: 1,429,570\n",
            "Non-trainable params: 0\n",
            "_________________________________________________________________\n"
          ]
        }
      ]
    },
    {
      "cell_type": "code",
      "source": [
        "#y_train=np.expand_dims(y_train,axis=2)\n",
        "y_train.shape"
      ],
      "metadata": {
        "colab": {
          "base_uri": "https://localhost:8080/"
        },
        "id": "Z__1--kEslIS",
        "outputId": "5473e82e-bebb-4f9d-c315-258b561d90c2"
      },
      "execution_count": 43,
      "outputs": [
        {
          "output_type": "execute_result",
          "data": {
            "text/plain": [
              "(124074, 15)"
            ]
          },
          "metadata": {},
          "execution_count": 43
        }
      ]
    },
    {
      "cell_type": "code",
      "source": [
        "eng_vocab_size"
      ],
      "metadata": {
        "colab": {
          "base_uri": "https://localhost:8080/"
        },
        "id": "_X3gN3PXtoxG",
        "outputId": "96b99877-b3b5-48db-aa8f-676de723e2db"
      },
      "execution_count": 34,
      "outputs": [
        {
          "output_type": "execute_result",
          "data": {
            "text/plain": [
              "200"
            ]
          },
          "metadata": {},
          "execution_count": 34
        }
      ]
    },
    {
      "cell_type": "code",
      "source": [
        "x_train.shape"
      ],
      "metadata": {
        "colab": {
          "base_uri": "https://localhost:8080/"
        },
        "id": "E6713vEntiFd",
        "outputId": "4a52d555-63b7-451a-d49f-dfb7f8ccd4d2"
      },
      "execution_count": 35,
      "outputs": [
        {
          "output_type": "execute_result",
          "data": {
            "text/plain": [
              "(124074, 15)"
            ]
          },
          "metadata": {},
          "execution_count": 35
        }
      ]
    },
    {
      "cell_type": "code",
      "source": [
        "#rlop=tf.keras.callbacks.ReduceLROnPlateau(monitor='val_accuracy')\n",
        "rllr=tf.keras.callbacks.EarlyStopping(monitor='val_accuracy',min_delta=0.03,patience=30)"
      ],
      "metadata": {
        "id": "k3xG1Y8VHqpz"
      },
      "execution_count": 38,
      "outputs": []
    },
    {
      "cell_type": "code",
      "source": [
        "history=model.fit(x_train,y_train,batch_size=1024,validation_split=0.25,epochs=200,callbacks=[rllr])"
      ],
      "metadata": {
        "colab": {
          "base_uri": "https://localhost:8080/"
        },
        "id": "RPAPtUWvsunF",
        "outputId": "3fc6662d-0e76-4c5b-fcc1-e0a5bbaeb46c"
      },
      "execution_count": 39,
      "outputs": [
        {
          "output_type": "stream",
          "name": "stdout",
          "text": [
            "Epoch 1/200\n",
            "91/91 [==============================] - 5s 59ms/step - loss: 3.8648 - accuracy: 0.1885 - val_loss: 3.8225 - val_accuracy: 0.2161\n",
            "Epoch 2/200\n",
            "91/91 [==============================] - 5s 59ms/step - loss: 3.7649 - accuracy: 0.2264 - val_loss: 3.7032 - val_accuracy: 0.2378\n",
            "Epoch 3/200\n",
            "91/91 [==============================] - 5s 59ms/step - loss: 3.6168 - accuracy: 0.2323 - val_loss: 3.5301 - val_accuracy: 0.2318\n",
            "Epoch 4/200\n",
            "91/91 [==============================] - 5s 60ms/step - loss: 3.4103 - accuracy: 0.2358 - val_loss: 3.2990 - val_accuracy: 0.2447\n",
            "Epoch 5/200\n",
            "91/91 [==============================] - 6s 61ms/step - loss: 3.2205 - accuracy: 0.2521 - val_loss: 3.1523 - val_accuracy: 0.2608\n",
            "Epoch 6/200\n",
            "91/91 [==============================] - 6s 61ms/step - loss: 3.0935 - accuracy: 0.2718 - val_loss: 3.0448 - val_accuracy: 0.2765\n",
            "Epoch 7/200\n",
            "91/91 [==============================] - 6s 62ms/step - loss: 2.9844 - accuracy: 0.2883 - val_loss: 2.9622 - val_accuracy: 0.2936\n",
            "Epoch 8/200\n",
            "91/91 [==============================] - 6s 61ms/step - loss: 2.8819 - accuracy: 0.2959 - val_loss: 2.8277 - val_accuracy: 0.2784\n",
            "Epoch 9/200\n",
            "91/91 [==============================] - 5s 60ms/step - loss: 2.7872 - accuracy: 0.2967 - val_loss: 2.7655 - val_accuracy: 0.3084\n",
            "Epoch 10/200\n",
            "91/91 [==============================] - 5s 60ms/step - loss: 2.7318 - accuracy: 0.3058 - val_loss: 2.7056 - val_accuracy: 0.3278\n",
            "Epoch 11/200\n",
            "91/91 [==============================] - 5s 60ms/step - loss: 2.6781 - accuracy: 0.3254 - val_loss: 2.6519 - val_accuracy: 0.3313\n",
            "Epoch 12/200\n",
            "91/91 [==============================] - 5s 59ms/step - loss: 2.6262 - accuracy: 0.3350 - val_loss: 2.6017 - val_accuracy: 0.3374\n",
            "Epoch 13/200\n",
            "91/91 [==============================] - 5s 59ms/step - loss: 2.5756 - accuracy: 0.3464 - val_loss: 2.5976 - val_accuracy: 0.3300\n",
            "Epoch 14/200\n",
            "91/91 [==============================] - 5s 60ms/step - loss: 2.5372 - accuracy: 0.3520 - val_loss: 2.5120 - val_accuracy: 0.3529\n",
            "Epoch 15/200\n",
            "91/91 [==============================] - 5s 59ms/step - loss: 2.4941 - accuracy: 0.3541 - val_loss: 2.4742 - val_accuracy: 0.3558\n",
            "Epoch 16/200\n",
            "91/91 [==============================] - 5s 59ms/step - loss: 2.4560 - accuracy: 0.3569 - val_loss: 2.4320 - val_accuracy: 0.3580\n",
            "Epoch 17/200\n",
            "91/91 [==============================] - 5s 60ms/step - loss: 2.4091 - accuracy: 0.3613 - val_loss: 2.3918 - val_accuracy: 0.3682\n",
            "Epoch 18/200\n",
            "91/91 [==============================] - 5s 60ms/step - loss: 2.3664 - accuracy: 0.3740 - val_loss: 2.3437 - val_accuracy: 0.3828\n",
            "Epoch 19/200\n",
            "91/91 [==============================] - 5s 61ms/step - loss: 2.3229 - accuracy: 0.3919 - val_loss: 2.2992 - val_accuracy: 0.4021\n",
            "Epoch 20/200\n",
            "91/91 [==============================] - 5s 61ms/step - loss: 2.2794 - accuracy: 0.4086 - val_loss: 2.2571 - val_accuracy: 0.4166\n",
            "Epoch 21/200\n",
            "91/91 [==============================] - 5s 61ms/step - loss: 2.2383 - accuracy: 0.4269 - val_loss: 2.2211 - val_accuracy: 0.4327\n",
            "Epoch 22/200\n",
            "91/91 [==============================] - 5s 60ms/step - loss: 2.1953 - accuracy: 0.4390 - val_loss: 2.1730 - val_accuracy: 0.4515\n",
            "Epoch 23/200\n",
            "91/91 [==============================] - 5s 60ms/step - loss: 2.1531 - accuracy: 0.4484 - val_loss: 2.1248 - val_accuracy: 0.4582\n",
            "Epoch 24/200\n",
            "91/91 [==============================] - 5s 60ms/step - loss: 2.1046 - accuracy: 0.4565 - val_loss: 2.0756 - val_accuracy: 0.4591\n",
            "Epoch 25/200\n",
            "91/91 [==============================] - 5s 60ms/step - loss: 2.0617 - accuracy: 0.4645 - val_loss: 2.0366 - val_accuracy: 0.4715\n",
            "Epoch 26/200\n",
            "91/91 [==============================] - 5s 60ms/step - loss: 2.0149 - accuracy: 0.4786 - val_loss: 1.9998 - val_accuracy: 0.4839\n",
            "Epoch 27/200\n",
            "91/91 [==============================] - 5s 60ms/step - loss: 1.9841 - accuracy: 0.4873 - val_loss: 1.9685 - val_accuracy: 0.4954\n",
            "Epoch 28/200\n",
            "91/91 [==============================] - 5s 60ms/step - loss: 1.9477 - accuracy: 0.4981 - val_loss: 1.9354 - val_accuracy: 0.4983\n",
            "Epoch 29/200\n",
            "91/91 [==============================] - 5s 60ms/step - loss: 1.9181 - accuracy: 0.5075 - val_loss: 1.9231 - val_accuracy: 0.5016\n",
            "Epoch 30/200\n",
            "91/91 [==============================] - 5s 60ms/step - loss: 1.8904 - accuracy: 0.5145 - val_loss: 1.9040 - val_accuracy: 0.5039\n",
            "Epoch 31/200\n",
            "91/91 [==============================] - 5s 60ms/step - loss: 1.8678 - accuracy: 0.5190 - val_loss: 1.8549 - val_accuracy: 0.5265\n",
            "Epoch 32/200\n",
            "91/91 [==============================] - 5s 60ms/step - loss: 1.8358 - accuracy: 0.5274 - val_loss: 1.8240 - val_accuracy: 0.5316\n",
            "Epoch 33/200\n",
            "91/91 [==============================] - 5s 60ms/step - loss: 1.8124 - accuracy: 0.5319 - val_loss: 1.7974 - val_accuracy: 0.5375\n",
            "Epoch 34/200\n",
            "91/91 [==============================] - 5s 60ms/step - loss: 1.7807 - accuracy: 0.5392 - val_loss: 1.7672 - val_accuracy: 0.5449\n",
            "Epoch 35/200\n",
            "91/91 [==============================] - 5s 60ms/step - loss: 1.7472 - accuracy: 0.5471 - val_loss: 1.7349 - val_accuracy: 0.5514\n",
            "Epoch 36/200\n",
            "91/91 [==============================] - 5s 60ms/step - loss: 1.7203 - accuracy: 0.5523 - val_loss: 1.7075 - val_accuracy: 0.5554\n",
            "Epoch 37/200\n",
            "91/91 [==============================] - 5s 60ms/step - loss: 1.6857 - accuracy: 0.5596 - val_loss: 1.6767 - val_accuracy: 0.5619\n",
            "Epoch 38/200\n",
            "91/91 [==============================] - 5s 60ms/step - loss: 1.6553 - accuracy: 0.5644 - val_loss: 1.6458 - val_accuracy: 0.5652\n",
            "Epoch 39/200\n",
            "91/91 [==============================] - 5s 60ms/step - loss: 1.6256 - accuracy: 0.5681 - val_loss: 1.6136 - val_accuracy: 0.5691\n",
            "Epoch 40/200\n",
            "91/91 [==============================] - 5s 60ms/step - loss: 1.5958 - accuracy: 0.5726 - val_loss: 1.5807 - val_accuracy: 0.5775\n",
            "Epoch 41/200\n",
            "91/91 [==============================] - 5s 60ms/step - loss: 1.5621 - accuracy: 0.5799 - val_loss: 1.5619 - val_accuracy: 0.5772\n",
            "Epoch 42/200\n",
            "91/91 [==============================] - 5s 60ms/step - loss: 1.5363 - accuracy: 0.5847 - val_loss: 1.5331 - val_accuracy: 0.5858\n",
            "Epoch 43/200\n",
            "91/91 [==============================] - 5s 60ms/step - loss: 1.5192 - accuracy: 0.5864 - val_loss: 1.5111 - val_accuracy: 0.5881\n",
            "Epoch 44/200\n",
            "91/91 [==============================] - 5s 60ms/step - loss: 1.4872 - accuracy: 0.5951 - val_loss: 1.4837 - val_accuracy: 0.5962\n",
            "Epoch 45/200\n",
            "91/91 [==============================] - 5s 60ms/step - loss: 1.4619 - accuracy: 0.6019 - val_loss: 1.4606 - val_accuracy: 0.6010\n",
            "Epoch 46/200\n",
            "91/91 [==============================] - 5s 60ms/step - loss: 1.4459 - accuracy: 0.6049 - val_loss: 1.4451 - val_accuracy: 0.6056\n",
            "Epoch 47/200\n",
            "91/91 [==============================] - 5s 59ms/step - loss: 1.4192 - accuracy: 0.6131 - val_loss: 1.4217 - val_accuracy: 0.6100\n",
            "Epoch 48/200\n",
            "91/91 [==============================] - 5s 60ms/step - loss: 1.3988 - accuracy: 0.6186 - val_loss: 1.4148 - val_accuracy: 0.6149\n",
            "Epoch 49/200\n",
            "91/91 [==============================] - 5s 60ms/step - loss: 1.3791 - accuracy: 0.6235 - val_loss: 1.3811 - val_accuracy: 0.6218\n",
            "Epoch 50/200\n",
            "91/91 [==============================] - 5s 60ms/step - loss: 1.3631 - accuracy: 0.6273 - val_loss: 1.3860 - val_accuracy: 0.6198\n",
            "Epoch 51/200\n",
            "91/91 [==============================] - 5s 60ms/step - loss: 1.3400 - accuracy: 0.6342 - val_loss: 1.3431 - val_accuracy: 0.6357\n",
            "Epoch 52/200\n",
            "91/91 [==============================] - 5s 60ms/step - loss: 1.3238 - accuracy: 0.6381 - val_loss: 1.3252 - val_accuracy: 0.6408\n",
            "Epoch 53/200\n",
            "91/91 [==============================] - 5s 60ms/step - loss: 1.3049 - accuracy: 0.6431 - val_loss: 1.3171 - val_accuracy: 0.6388\n",
            "Epoch 54/200\n",
            "91/91 [==============================] - 5s 60ms/step - loss: 1.2905 - accuracy: 0.6466 - val_loss: 1.2897 - val_accuracy: 0.6489\n",
            "Epoch 55/200\n",
            "91/91 [==============================] - 5s 60ms/step - loss: 1.2701 - accuracy: 0.6522 - val_loss: 1.2785 - val_accuracy: 0.6519\n",
            "Epoch 56/200\n",
            "91/91 [==============================] - 5s 60ms/step - loss: 1.2513 - accuracy: 0.6580 - val_loss: 1.2650 - val_accuracy: 0.6553\n",
            "Epoch 57/200\n",
            "91/91 [==============================] - 5s 60ms/step - loss: 1.2394 - accuracy: 0.6619 - val_loss: 1.2477 - val_accuracy: 0.6620\n",
            "Epoch 58/200\n",
            "91/91 [==============================] - 5s 60ms/step - loss: 1.2186 - accuracy: 0.6718 - val_loss: 1.2283 - val_accuracy: 0.6713\n",
            "Epoch 59/200\n",
            "91/91 [==============================] - 5s 60ms/step - loss: 1.1996 - accuracy: 0.6793 - val_loss: 1.2228 - val_accuracy: 0.6741\n",
            "Epoch 60/200\n",
            "91/91 [==============================] - 5s 60ms/step - loss: 1.1875 - accuracy: 0.6827 - val_loss: 1.1954 - val_accuracy: 0.6823\n",
            "Epoch 61/200\n",
            "91/91 [==============================] - 5s 60ms/step - loss: 1.1659 - accuracy: 0.6893 - val_loss: 1.1735 - val_accuracy: 0.6879\n",
            "Epoch 62/200\n",
            "91/91 [==============================] - 5s 60ms/step - loss: 1.1445 - accuracy: 0.6961 - val_loss: 1.1673 - val_accuracy: 0.6890\n",
            "Epoch 63/200\n",
            "91/91 [==============================] - 5s 60ms/step - loss: 1.1290 - accuracy: 0.7001 - val_loss: 1.1437 - val_accuracy: 0.6957\n",
            "Epoch 64/200\n",
            "91/91 [==============================] - 5s 60ms/step - loss: 1.1128 - accuracy: 0.7038 - val_loss: 1.1332 - val_accuracy: 0.6988\n",
            "Epoch 65/200\n",
            "91/91 [==============================] - 5s 60ms/step - loss: 1.1004 - accuracy: 0.7068 - val_loss: 1.1245 - val_accuracy: 0.6967\n",
            "Epoch 66/200\n",
            "91/91 [==============================] - 5s 60ms/step - loss: 1.0802 - accuracy: 0.7126 - val_loss: 1.0977 - val_accuracy: 0.7077\n",
            "Epoch 67/200\n",
            "91/91 [==============================] - 5s 60ms/step - loss: 1.0687 - accuracy: 0.7158 - val_loss: 1.0978 - val_accuracy: 0.7070\n",
            "Epoch 68/200\n",
            "91/91 [==============================] - 5s 60ms/step - loss: 1.0511 - accuracy: 0.7208 - val_loss: 1.0731 - val_accuracy: 0.7142\n",
            "Epoch 69/200\n",
            "91/91 [==============================] - 5s 60ms/step - loss: 1.0404 - accuracy: 0.7231 - val_loss: 1.0613 - val_accuracy: 0.7175\n",
            "Epoch 70/200\n",
            "91/91 [==============================] - 5s 60ms/step - loss: 1.0220 - accuracy: 0.7285 - val_loss: 1.0456 - val_accuracy: 0.7214\n",
            "Epoch 71/200\n",
            "91/91 [==============================] - 5s 60ms/step - loss: 1.0054 - accuracy: 0.7324 - val_loss: 1.0250 - val_accuracy: 0.7278\n",
            "Epoch 72/200\n",
            "91/91 [==============================] - 5s 60ms/step - loss: 0.9914 - accuracy: 0.7360 - val_loss: 1.0132 - val_accuracy: 0.7292\n",
            "Epoch 73/200\n",
            "91/91 [==============================] - 5s 60ms/step - loss: 0.9695 - accuracy: 0.7420 - val_loss: 0.9999 - val_accuracy: 0.7332\n",
            "Epoch 74/200\n",
            "91/91 [==============================] - 5s 60ms/step - loss: 0.9588 - accuracy: 0.7438 - val_loss: 0.9947 - val_accuracy: 0.7338\n",
            "Epoch 75/200\n",
            "91/91 [==============================] - 5s 60ms/step - loss: 0.9411 - accuracy: 0.7488 - val_loss: 0.9749 - val_accuracy: 0.7396\n",
            "Epoch 76/200\n",
            "91/91 [==============================] - 5s 60ms/step - loss: 0.9256 - accuracy: 0.7523 - val_loss: 0.9532 - val_accuracy: 0.7458\n",
            "Epoch 77/200\n",
            "91/91 [==============================] - 5s 60ms/step - loss: 0.9083 - accuracy: 0.7569 - val_loss: 0.9643 - val_accuracy: 0.7411\n",
            "Epoch 78/200\n",
            "91/91 [==============================] - 5s 60ms/step - loss: 0.8955 - accuracy: 0.7596 - val_loss: 0.9273 - val_accuracy: 0.7528\n",
            "Epoch 79/200\n",
            "91/91 [==============================] - 5s 60ms/step - loss: 0.8773 - accuracy: 0.7652 - val_loss: 0.9305 - val_accuracy: 0.7517\n",
            "Epoch 80/200\n",
            "91/91 [==============================] - 5s 60ms/step - loss: 0.8678 - accuracy: 0.7674 - val_loss: 0.9046 - val_accuracy: 0.7582\n",
            "Epoch 81/200\n",
            "91/91 [==============================] - 5s 60ms/step - loss: 0.8486 - accuracy: 0.7736 - val_loss: 0.8947 - val_accuracy: 0.7608\n",
            "Epoch 82/200\n",
            "91/91 [==============================] - 5s 60ms/step - loss: 0.8380 - accuracy: 0.7758 - val_loss: 0.8898 - val_accuracy: 0.7651\n",
            "Epoch 83/200\n",
            "91/91 [==============================] - 5s 60ms/step - loss: 0.8221 - accuracy: 0.7809 - val_loss: 0.8699 - val_accuracy: 0.7692\n",
            "Epoch 84/200\n",
            "91/91 [==============================] - 5s 60ms/step - loss: 0.8105 - accuracy: 0.7842 - val_loss: 0.8540 - val_accuracy: 0.7727\n",
            "Epoch 85/200\n",
            "91/91 [==============================] - 5s 60ms/step - loss: 0.7937 - accuracy: 0.7890 - val_loss: 0.8450 - val_accuracy: 0.7773\n",
            "Epoch 86/200\n",
            "91/91 [==============================] - 5s 60ms/step - loss: 0.7817 - accuracy: 0.7923 - val_loss: 0.8379 - val_accuracy: 0.7777\n",
            "Epoch 87/200\n",
            "91/91 [==============================] - 5s 60ms/step - loss: 0.7690 - accuracy: 0.7964 - val_loss: 0.8385 - val_accuracy: 0.7786\n",
            "Epoch 88/200\n",
            "91/91 [==============================] - 5s 60ms/step - loss: 0.7575 - accuracy: 0.7998 - val_loss: 0.8067 - val_accuracy: 0.7893\n",
            "Epoch 89/200\n",
            "91/91 [==============================] - 5s 60ms/step - loss: 0.7410 - accuracy: 0.8049 - val_loss: 0.8002 - val_accuracy: 0.7914\n",
            "Epoch 90/200\n",
            "91/91 [==============================] - 5s 60ms/step - loss: 0.7341 - accuracy: 0.8067 - val_loss: 0.7998 - val_accuracy: 0.7926\n",
            "Epoch 91/200\n",
            "91/91 [==============================] - 5s 60ms/step - loss: 0.7279 - accuracy: 0.8078 - val_loss: 0.7860 - val_accuracy: 0.7957\n",
            "Epoch 92/200\n",
            "91/91 [==============================] - 5s 60ms/step - loss: 0.7152 - accuracy: 0.8115 - val_loss: 0.7750 - val_accuracy: 0.7982\n",
            "Epoch 93/200\n",
            "91/91 [==============================] - 5s 60ms/step - loss: 0.6963 - accuracy: 0.8176 - val_loss: 0.7644 - val_accuracy: 0.8021\n",
            "Epoch 94/200\n",
            "91/91 [==============================] - 5s 60ms/step - loss: 0.6880 - accuracy: 0.8199 - val_loss: 0.7610 - val_accuracy: 0.8026\n",
            "Epoch 95/200\n",
            "91/91 [==============================] - 5s 60ms/step - loss: 0.6773 - accuracy: 0.8231 - val_loss: 0.7499 - val_accuracy: 0.8061\n",
            "Epoch 96/200\n",
            "91/91 [==============================] - 5s 60ms/step - loss: 0.6681 - accuracy: 0.8257 - val_loss: 0.7501 - val_accuracy: 0.8061\n",
            "Epoch 97/200\n",
            "91/91 [==============================] - 5s 60ms/step - loss: 0.6660 - accuracy: 0.8260 - val_loss: 0.7426 - val_accuracy: 0.8090\n",
            "Epoch 98/200\n",
            "91/91 [==============================] - 5s 60ms/step - loss: 0.6514 - accuracy: 0.8302 - val_loss: 0.7306 - val_accuracy: 0.8129\n",
            "Epoch 99/200\n",
            "91/91 [==============================] - 5s 60ms/step - loss: 0.6456 - accuracy: 0.8318 - val_loss: 0.7282 - val_accuracy: 0.8121\n",
            "Epoch 100/200\n",
            "91/91 [==============================] - 5s 60ms/step - loss: 0.6300 - accuracy: 0.8365 - val_loss: 0.7153 - val_accuracy: 0.8166\n",
            "Epoch 101/200\n",
            "91/91 [==============================] - 5s 60ms/step - loss: 0.6204 - accuracy: 0.8391 - val_loss: 0.7043 - val_accuracy: 0.8198\n",
            "Epoch 102/200\n",
            "91/91 [==============================] - 5s 60ms/step - loss: 0.6093 - accuracy: 0.8420 - val_loss: 0.7088 - val_accuracy: 0.8185\n",
            "Epoch 103/200\n",
            "91/91 [==============================] - 5s 60ms/step - loss: 0.6013 - accuracy: 0.8441 - val_loss: 0.6902 - val_accuracy: 0.8253\n",
            "Epoch 104/200\n",
            "91/91 [==============================] - 5s 60ms/step - loss: 0.5899 - accuracy: 0.8479 - val_loss: 0.6803 - val_accuracy: 0.8272\n",
            "Epoch 105/200\n",
            "91/91 [==============================] - 5s 60ms/step - loss: 0.5821 - accuracy: 0.8501 - val_loss: 0.6793 - val_accuracy: 0.8282\n",
            "Epoch 106/200\n",
            "91/91 [==============================] - 5s 60ms/step - loss: 0.5754 - accuracy: 0.8519 - val_loss: 0.6655 - val_accuracy: 0.8325\n",
            "Epoch 107/200\n",
            "91/91 [==============================] - 5s 60ms/step - loss: 0.5661 - accuracy: 0.8546 - val_loss: 0.6724 - val_accuracy: 0.8314\n",
            "Epoch 108/200\n",
            "91/91 [==============================] - 5s 60ms/step - loss: 0.5612 - accuracy: 0.8556 - val_loss: 0.6624 - val_accuracy: 0.8334\n",
            "Epoch 109/200\n",
            "91/91 [==============================] - 5s 60ms/step - loss: 0.5560 - accuracy: 0.8565 - val_loss: 0.6576 - val_accuracy: 0.8361\n",
            "Epoch 110/200\n",
            "91/91 [==============================] - 5s 60ms/step - loss: 0.5428 - accuracy: 0.8609 - val_loss: 0.6426 - val_accuracy: 0.8390\n",
            "Epoch 111/200\n",
            "91/91 [==============================] - 5s 60ms/step - loss: 0.5325 - accuracy: 0.8638 - val_loss: 0.6632 - val_accuracy: 0.8355\n",
            "Epoch 112/200\n",
            "91/91 [==============================] - 5s 60ms/step - loss: 0.5340 - accuracy: 0.8631 - val_loss: 0.6543 - val_accuracy: 0.8355\n",
            "Epoch 113/200\n",
            "91/91 [==============================] - 5s 60ms/step - loss: 0.5217 - accuracy: 0.8665 - val_loss: 0.6309 - val_accuracy: 0.8446\n",
            "Epoch 114/200\n",
            "91/91 [==============================] - 5s 60ms/step - loss: 0.5119 - accuracy: 0.8693 - val_loss: 0.6261 - val_accuracy: 0.8444\n",
            "Epoch 115/200\n",
            "91/91 [==============================] - 5s 60ms/step - loss: 0.5038 - accuracy: 0.8717 - val_loss: 0.6213 - val_accuracy: 0.8461\n",
            "Epoch 116/200\n",
            "91/91 [==============================] - 5s 60ms/step - loss: 0.4995 - accuracy: 0.8727 - val_loss: 0.6137 - val_accuracy: 0.8485\n",
            "Epoch 117/200\n",
            "91/91 [==============================] - 5s 60ms/step - loss: 0.4905 - accuracy: 0.8755 - val_loss: 0.6077 - val_accuracy: 0.8504\n",
            "Epoch 118/200\n",
            "91/91 [==============================] - 5s 60ms/step - loss: 0.4851 - accuracy: 0.8768 - val_loss: 0.6130 - val_accuracy: 0.8483\n",
            "Epoch 119/200\n",
            "91/91 [==============================] - 5s 60ms/step - loss: 0.4778 - accuracy: 0.8789 - val_loss: 0.6024 - val_accuracy: 0.8519\n",
            "Epoch 120/200\n",
            "91/91 [==============================] - 5s 60ms/step - loss: 0.4764 - accuracy: 0.8791 - val_loss: 0.5966 - val_accuracy: 0.8548\n",
            "Epoch 121/200\n",
            "91/91 [==============================] - 5s 60ms/step - loss: 0.4664 - accuracy: 0.8821 - val_loss: 0.5870 - val_accuracy: 0.8572\n",
            "Epoch 122/200\n",
            "91/91 [==============================] - 5s 60ms/step - loss: 0.4545 - accuracy: 0.8860 - val_loss: 0.5863 - val_accuracy: 0.8589\n",
            "Epoch 123/200\n",
            "91/91 [==============================] - 5s 60ms/step - loss: 0.5857 - accuracy: 0.8444 - val_loss: 0.6186 - val_accuracy: 0.8469\n",
            "Epoch 124/200\n",
            "91/91 [==============================] - 5s 60ms/step - loss: 0.4565 - accuracy: 0.8847 - val_loss: 0.5736 - val_accuracy: 0.8624\n",
            "Epoch 125/200\n",
            "91/91 [==============================] - 5s 60ms/step - loss: 0.4356 - accuracy: 0.8919 - val_loss: 0.5704 - val_accuracy: 0.8640\n",
            "Epoch 126/200\n",
            "91/91 [==============================] - 5s 60ms/step - loss: 0.4271 - accuracy: 0.8947 - val_loss: 0.5616 - val_accuracy: 0.8678\n",
            "Epoch 127/200\n",
            "91/91 [==============================] - 5s 60ms/step - loss: 0.4223 - accuracy: 0.8961 - val_loss: 0.5591 - val_accuracy: 0.8680\n",
            "Epoch 128/200\n",
            "91/91 [==============================] - 5s 60ms/step - loss: 0.4142 - accuracy: 0.8988 - val_loss: 0.5541 - val_accuracy: 0.8698\n",
            "Epoch 129/200\n",
            "91/91 [==============================] - 5s 60ms/step - loss: 0.4102 - accuracy: 0.8999 - val_loss: 0.5523 - val_accuracy: 0.8703\n",
            "Epoch 130/200\n",
            "91/91 [==============================] - 5s 60ms/step - loss: 0.4063 - accuracy: 0.9011 - val_loss: 0.5497 - val_accuracy: 0.8713\n",
            "Epoch 131/200\n",
            "91/91 [==============================] - 5s 60ms/step - loss: 0.4046 - accuracy: 0.9012 - val_loss: 0.5421 - val_accuracy: 0.8738\n",
            "Epoch 132/200\n",
            "91/91 [==============================] - 5s 60ms/step - loss: 0.3997 - accuracy: 0.9028 - val_loss: 0.5391 - val_accuracy: 0.8752\n",
            "Epoch 133/200\n",
            "91/91 [==============================] - 5s 60ms/step - loss: 0.3918 - accuracy: 0.9054 - val_loss: 0.5434 - val_accuracy: 0.8748\n",
            "Epoch 134/200\n",
            "91/91 [==============================] - 5s 60ms/step - loss: 0.3963 - accuracy: 0.9038 - val_loss: 0.5432 - val_accuracy: 0.8734\n",
            "Epoch 135/200\n",
            "91/91 [==============================] - 5s 60ms/step - loss: 0.3872 - accuracy: 0.9066 - val_loss: 0.5398 - val_accuracy: 0.8762\n",
            "Epoch 136/200\n",
            "91/91 [==============================] - 5s 60ms/step - loss: 0.3800 - accuracy: 0.9085 - val_loss: 0.5258 - val_accuracy: 0.8792\n",
            "Epoch 137/200\n",
            "91/91 [==============================] - 5s 60ms/step - loss: 0.3710 - accuracy: 0.9111 - val_loss: 0.5267 - val_accuracy: 0.8811\n",
            "Epoch 138/200\n",
            "91/91 [==============================] - 5s 60ms/step - loss: 0.3748 - accuracy: 0.9097 - val_loss: 0.5239 - val_accuracy: 0.8801\n",
            "Epoch 139/200\n",
            "91/91 [==============================] - 5s 60ms/step - loss: 0.3622 - accuracy: 0.9132 - val_loss: 0.5120 - val_accuracy: 0.8842\n",
            "Epoch 140/200\n",
            "91/91 [==============================] - 5s 60ms/step - loss: 0.3567 - accuracy: 0.9148 - val_loss: 0.5132 - val_accuracy: 0.8840\n",
            "Epoch 141/200\n",
            "91/91 [==============================] - 5s 60ms/step - loss: 0.3505 - accuracy: 0.9165 - val_loss: 0.5027 - val_accuracy: 0.8869\n",
            "Epoch 142/200\n",
            "91/91 [==============================] - 5s 60ms/step - loss: 0.3420 - accuracy: 0.9189 - val_loss: 0.4976 - val_accuracy: 0.8891\n",
            "Epoch 143/200\n",
            "91/91 [==============================] - 5s 60ms/step - loss: 0.3330 - accuracy: 0.9214 - val_loss: 0.4914 - val_accuracy: 0.8900\n",
            "Epoch 144/200\n",
            "91/91 [==============================] - 5s 60ms/step - loss: 0.3283 - accuracy: 0.9226 - val_loss: 0.4961 - val_accuracy: 0.8901\n",
            "Epoch 145/200\n",
            "91/91 [==============================] - 5s 60ms/step - loss: 0.3295 - accuracy: 0.9216 - val_loss: 0.4962 - val_accuracy: 0.8893\n",
            "Epoch 146/200\n",
            "91/91 [==============================] - 5s 60ms/step - loss: 0.3239 - accuracy: 0.9231 - val_loss: 0.4958 - val_accuracy: 0.8907\n",
            "Epoch 147/200\n",
            "91/91 [==============================] - 5s 60ms/step - loss: 0.3295 - accuracy: 0.9209 - val_loss: 0.4881 - val_accuracy: 0.8910\n",
            "Epoch 148/200\n",
            "91/91 [==============================] - 5s 60ms/step - loss: 0.3187 - accuracy: 0.9242 - val_loss: 0.4780 - val_accuracy: 0.8940\n",
            "Epoch 149/200\n",
            "91/91 [==============================] - 5s 60ms/step - loss: 0.3145 - accuracy: 0.9252 - val_loss: 0.4819 - val_accuracy: 0.8928\n",
            "Epoch 150/200\n",
            "91/91 [==============================] - 5s 60ms/step - loss: 0.3059 - accuracy: 0.9276 - val_loss: 0.4671 - val_accuracy: 0.8969\n",
            "Epoch 151/200\n",
            "91/91 [==============================] - 5s 60ms/step - loss: 0.2988 - accuracy: 0.9300 - val_loss: 0.4617 - val_accuracy: 0.8979\n",
            "Epoch 152/200\n",
            "91/91 [==============================] - 5s 59ms/step - loss: 0.2992 - accuracy: 0.9297 - val_loss: 0.4649 - val_accuracy: 0.8975\n",
            "Epoch 153/200\n",
            "91/91 [==============================] - 5s 60ms/step - loss: 0.3043 - accuracy: 0.9278 - val_loss: 0.4672 - val_accuracy: 0.8981\n",
            "Epoch 154/200\n",
            "91/91 [==============================] - 5s 60ms/step - loss: 0.2939 - accuracy: 0.9307 - val_loss: 0.4645 - val_accuracy: 0.8995\n",
            "Epoch 155/200\n",
            "91/91 [==============================] - 5s 60ms/step - loss: 0.2937 - accuracy: 0.9305 - val_loss: 0.4597 - val_accuracy: 0.9007\n",
            "Epoch 156/200\n",
            "91/91 [==============================] - 5s 60ms/step - loss: 0.2913 - accuracy: 0.9318 - val_loss: 0.4870 - val_accuracy: 0.8942\n",
            "Epoch 157/200\n",
            "91/91 [==============================] - 5s 60ms/step - loss: 0.2776 - accuracy: 0.9358 - val_loss: 0.4501 - val_accuracy: 0.9048\n",
            "Epoch 158/200\n",
            "91/91 [==============================] - 5s 60ms/step - loss: 0.2738 - accuracy: 0.9370 - val_loss: 0.4455 - val_accuracy: 0.9063\n",
            "Epoch 159/200\n",
            "91/91 [==============================] - 5s 60ms/step - loss: 0.2647 - accuracy: 0.9396 - val_loss: 0.4314 - val_accuracy: 0.9094\n",
            "Epoch 160/200\n",
            "91/91 [==============================] - 5s 60ms/step - loss: 0.2523 - accuracy: 0.9438 - val_loss: 0.4272 - val_accuracy: 0.9107\n",
            "Epoch 161/200\n",
            "91/91 [==============================] - 5s 60ms/step - loss: 0.2468 - accuracy: 0.9454 - val_loss: 0.4239 - val_accuracy: 0.9127\n",
            "Epoch 162/200\n",
            "91/91 [==============================] - 5s 60ms/step - loss: 0.2422 - accuracy: 0.9469 - val_loss: 0.4216 - val_accuracy: 0.9129\n",
            "Epoch 163/200\n",
            "91/91 [==============================] - 5s 60ms/step - loss: 0.2409 - accuracy: 0.9470 - val_loss: 0.4310 - val_accuracy: 0.9107\n",
            "Epoch 164/200\n",
            "91/91 [==============================] - 5s 60ms/step - loss: 0.2382 - accuracy: 0.9478 - val_loss: 0.4232 - val_accuracy: 0.9150\n",
            "Epoch 165/200\n",
            "91/91 [==============================] - 5s 60ms/step - loss: 0.4385 - accuracy: 0.8987 - val_loss: 0.6014 - val_accuracy: 0.8569\n",
            "Epoch 166/200\n",
            "91/91 [==============================] - 5s 60ms/step - loss: 0.3125 - accuracy: 0.9232 - val_loss: 0.4371 - val_accuracy: 0.9088\n",
            "Epoch 167/200\n",
            "91/91 [==============================] - 5s 60ms/step - loss: 0.2520 - accuracy: 0.9434 - val_loss: 0.4266 - val_accuracy: 0.9128\n",
            "Epoch 168/200\n",
            "91/91 [==============================] - 5s 60ms/step - loss: 0.2424 - accuracy: 0.9466 - val_loss: 0.4182 - val_accuracy: 0.9154\n",
            "Epoch 169/200\n",
            "91/91 [==============================] - 5s 60ms/step - loss: 0.2300 - accuracy: 0.9500 - val_loss: 0.4085 - val_accuracy: 0.9179\n",
            "Epoch 170/200\n",
            "91/91 [==============================] - 5s 60ms/step - loss: 0.2211 - accuracy: 0.9528 - val_loss: 0.4033 - val_accuracy: 0.9198\n",
            "Epoch 171/200\n",
            "91/91 [==============================] - 5s 60ms/step - loss: 0.2166 - accuracy: 0.9540 - val_loss: 0.3995 - val_accuracy: 0.9208\n",
            "Epoch 172/200\n",
            "91/91 [==============================] - 5s 60ms/step - loss: 0.2100 - accuracy: 0.9562 - val_loss: 0.3983 - val_accuracy: 0.9221\n",
            "Epoch 173/200\n",
            "91/91 [==============================] - 5s 60ms/step - loss: 0.2056 - accuracy: 0.9574 - val_loss: 0.3962 - val_accuracy: 0.9227\n",
            "Epoch 174/200\n",
            "91/91 [==============================] - 5s 60ms/step - loss: 0.2033 - accuracy: 0.9581 - val_loss: 0.3957 - val_accuracy: 0.9224\n",
            "Epoch 175/200\n",
            "91/91 [==============================] - 5s 60ms/step - loss: 0.2000 - accuracy: 0.9589 - val_loss: 0.3931 - val_accuracy: 0.9237\n",
            "Epoch 176/200\n",
            "91/91 [==============================] - 5s 60ms/step - loss: 0.1962 - accuracy: 0.9600 - val_loss: 0.3901 - val_accuracy: 0.9245\n",
            "Epoch 177/200\n",
            "91/91 [==============================] - 5s 60ms/step - loss: 0.1929 - accuracy: 0.9609 - val_loss: 0.3868 - val_accuracy: 0.9257\n",
            "Epoch 178/200\n",
            "91/91 [==============================] - 5s 60ms/step - loss: 0.1896 - accuracy: 0.9618 - val_loss: 0.3879 - val_accuracy: 0.9258\n",
            "Epoch 179/200\n",
            "91/91 [==============================] - 5s 60ms/step - loss: 0.1900 - accuracy: 0.9613 - val_loss: 0.3924 - val_accuracy: 0.9258\n",
            "Epoch 180/200\n",
            "91/91 [==============================] - 5s 60ms/step - loss: 0.2106 - accuracy: 0.9551 - val_loss: 0.4560 - val_accuracy: 0.9093\n",
            "Epoch 181/200\n",
            "91/91 [==============================] - 5s 60ms/step - loss: 0.2328 - accuracy: 0.9482 - val_loss: 0.4034 - val_accuracy: 0.9205\n",
            "Epoch 182/200\n",
            "91/91 [==============================] - 5s 60ms/step - loss: 0.2192 - accuracy: 0.9523 - val_loss: 0.4155 - val_accuracy: 0.9206\n",
            "Epoch 183/200\n",
            "91/91 [==============================] - 5s 60ms/step - loss: 0.2029 - accuracy: 0.9569 - val_loss: 0.3923 - val_accuracy: 0.9254\n",
            "Epoch 184/200\n",
            "91/91 [==============================] - 5s 60ms/step - loss: 0.1913 - accuracy: 0.9603 - val_loss: 0.3843 - val_accuracy: 0.9277\n",
            "Epoch 185/200\n",
            "91/91 [==============================] - 5s 60ms/step - loss: 0.1850 - accuracy: 0.9620 - val_loss: 0.3820 - val_accuracy: 0.9279\n"
          ]
        }
      ]
    },
    {
      "cell_type": "code",
      "source": [
        "model.save('lstm.h5')"
      ],
      "metadata": {
        "id": "gwVxhaAfRn-b"
      },
      "execution_count": 40,
      "outputs": []
    },
    {
      "cell_type": "code",
      "source": [
        "x_test.shape"
      ],
      "metadata": {
        "colab": {
          "base_uri": "https://localhost:8080/"
        },
        "id": "i15_2cfxZF0A",
        "outputId": "c974820f-10de-4439-8f27-669069b4eb0f"
      },
      "execution_count": 41,
      "outputs": [
        {
          "output_type": "execute_result",
          "data": {
            "text/plain": [
              "(13786, 15)"
            ]
          },
          "metadata": {},
          "execution_count": 41
        }
      ]
    },
    {
      "cell_type": "code",
      "source": [
        "y_test.shape"
      ],
      "metadata": {
        "colab": {
          "base_uri": "https://localhost:8080/"
        },
        "id": "B9wO3pSddx-u",
        "outputId": "2694e56f-a8b7-4d0d-b464-80b8d50fe670"
      },
      "execution_count": 42,
      "outputs": [
        {
          "output_type": "execute_result",
          "data": {
            "text/plain": [
              "(13786, 15)"
            ]
          },
          "metadata": {},
          "execution_count": 42
        }
      ]
    },
    {
      "cell_type": "code",
      "source": [
        "y_pred=model.predict(x_test)"
      ],
      "metadata": {
        "id": "eKNBUxA9d4Y9"
      },
      "execution_count": 44,
      "outputs": []
    },
    {
      "cell_type": "code",
      "source": [
        "y_pred"
      ],
      "metadata": {
        "id": "iuMH1DdKd8kL"
      },
      "execution_count": null,
      "outputs": []
    },
    {
      "cell_type": "code",
      "source": [
        "def prediction(x,x_tokenizer=x_tokenizer,y_tokenizer=y_tokenizer):\n",
        "  predictions=model.predict(x)[0]\n",
        "  id_to_word={ id: word for word, id in y_tokenizer.word_index.items()}\n",
        "  id_to_word[0]=''\n",
        "  return ' '.join([id_to_word[j] for j in np.argmax(predictions,1)])\n",
        "  "
      ],
      "metadata": {
        "id": "JXP1a-H-d-0u"
      },
      "execution_count": 46,
      "outputs": []
    },
    {
      "cell_type": "code",
      "source": [
        "def pad_to_text(padded,tokenizer):\n",
        "  id_to_word={id: word for word,id in tokenizer.word_index.items()}\n",
        "  id_to_word[0]=''\n",
        "  return ' '.join([id_to_word[j] for j in padded])"
      ],
      "metadata": {
        "id": "ZgSgBWgjeiKZ"
      },
      "execution_count": 47,
      "outputs": []
    },
    {
      "cell_type": "code",
      "source": [
        "for i in range(5):\n",
        "  print('Original English-{}\\n' .format(pad_to_text(x_test[i],x_tokenizer)))\n",
        "  print('Original French-{}\\n' .format(pad_to_text(x_test[i],x_tokenizer)))\n",
        "  print( 'Predicted-{}\\n\\n\\n\\n' .format(prediction(x_test[i:i+1])))"
      ],
      "metadata": {
        "colab": {
          "base_uri": "https://localhost:8080/"
        },
        "id": "CA3t93aAe9Qv",
        "outputId": "a2db2e79-8a8e-4adf-e44d-5ec03770bd09"
      },
      "execution_count": 53,
      "outputs": [
        {
          "output_type": "stream",
          "name": "stdout",
          "text": [
            "Original English-he likes oranges and mangoes          \n",
            "\n",
            "Original French-he likes oranges and mangoes          \n",
            "\n",
            "Predicted-il aime les oranges et les mangues        \n",
            "\n",
            "\n",
            "\n",
            "\n",
            "Original English-india is chilly during june and it is wonderful in may    \n",
            "\n",
            "Original French-india is chilly during june and it is wonderful in may    \n",
            "\n",
            "Predicted-l' inde est froid en juin et il est merveilleux en mai   \n",
            "\n",
            "\n",
            "\n",
            "\n",
            "Original English-he likes limes oranges and mangoes         \n",
            "\n",
            "Original French-he likes limes oranges and mangoes         \n",
            "\n",
            "Predicted-il aime les oranges les citrons verts et les mangues     \n",
            "\n",
            "\n",
            "\n",
            "\n",
            "Original English-the orange is your least liked fruit but the apple is his least liked \n",
            "\n",
            "Original French-the orange is your least liked fruit but the apple is his least liked \n",
            "\n",
            "Predicted-l'orange est votre fruit moins aimé mais la fraise est son moins aimé  \n",
            "\n",
            "\n",
            "\n",
            "\n",
            "Original English-california is usually relaxing during spring but it is never busy in september  \n",
            "\n",
            "Original French-california is usually relaxing during spring but it is never busy in september  \n",
            "\n",
            "Predicted-california est relaxant habituellement au printemps mais il est jamais occupé en septembre  \n",
            "\n",
            "\n",
            "\n",
            "\n"
          ]
        }
      ]
    }
  ]
}